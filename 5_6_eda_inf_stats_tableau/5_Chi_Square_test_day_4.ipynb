{
 "cells": [
  {
   "cell_type": "markdown",
   "metadata": {
    "id": "ALdrRSmxUMmt"
   },
   "source": [
    "# Chi-Squared Goodness-Of-Fit Test"
   ]
  },
  {
   "cell_type": "markdown",
   "metadata": {
    "id": "GPArlEkRUMmt"
   },
   "source": [
    "In our study of t-tests, we introduced the one-way t-test to check whether a sample mean differs from the an expected (population) mean. The chi-squared goodness-of-fit test is an analog of the one-way t-test for categorical variables: it tests whether the distribution of sample categorical data matches an expected distribution. For example, you could use a chi-squared goodness-of-fit test to check whether the race demographics of members at your church or school match that of the entire U.S. population or whether the computer browser preferences of your friends match those of Internet uses as a whole.\n",
    "\n",
    "When working with categorical data, the values themselves aren't of much use for statistical testing because categories like \"male\", \"female,\" and \"other\" have no mathematical meaning. Tests dealing with categorical variables are based on variable counts instead of the actual value of the variables themselves.\n",
    "\n",
    "Let's generate some fake demographic data for U.S. and Minnesota and walk through the chi-square goodness of fit test to check whether they are different:"
   ]
  },
  {
   "cell_type": "code",
   "execution_count": 1,
   "metadata": {
    "id": "_Tfd91t7UMmt"
   },
   "outputs": [],
   "source": [
    "import numpy as np\n",
    "import pandas as pd\n",
    "import scipy.stats as stats"
   ]
  },
  {
   "cell_type": "code",
   "execution_count": 6,
   "metadata": {},
   "outputs": [
    {
     "data": {
      "text/html": [
       "<div>\n",
       "<style scoped>\n",
       "    .dataframe tbody tr th:only-of-type {\n",
       "        vertical-align: middle;\n",
       "    }\n",
       "\n",
       "    .dataframe tbody tr th {\n",
       "        vertical-align: top;\n",
       "    }\n",
       "\n",
       "    .dataframe thead th {\n",
       "        text-align: right;\n",
       "    }\n",
       "</style>\n",
       "<table border=\"1\" class=\"dataframe\">\n",
       "  <thead>\n",
       "    <tr style=\"text-align: right;\">\n",
       "      <th></th>\n",
       "      <th>0</th>\n",
       "    </tr>\n",
       "  </thead>\n",
       "  <tbody>\n",
       "    <tr>\n",
       "      <th>0</th>\n",
       "      <td>white</td>\n",
       "    </tr>\n",
       "    <tr>\n",
       "      <th>1</th>\n",
       "      <td>white</td>\n",
       "    </tr>\n",
       "    <tr>\n",
       "      <th>2</th>\n",
       "      <td>white</td>\n",
       "    </tr>\n",
       "    <tr>\n",
       "      <th>3</th>\n",
       "      <td>white</td>\n",
       "    </tr>\n",
       "    <tr>\n",
       "      <th>4</th>\n",
       "      <td>white</td>\n",
       "    </tr>\n",
       "    <tr>\n",
       "      <th>...</th>\n",
       "      <td>...</td>\n",
       "    </tr>\n",
       "    <tr>\n",
       "      <th>259995</th>\n",
       "      <td>other</td>\n",
       "    </tr>\n",
       "    <tr>\n",
       "      <th>259996</th>\n",
       "      <td>other</td>\n",
       "    </tr>\n",
       "    <tr>\n",
       "      <th>259997</th>\n",
       "      <td>other</td>\n",
       "    </tr>\n",
       "    <tr>\n",
       "      <th>259998</th>\n",
       "      <td>other</td>\n",
       "    </tr>\n",
       "    <tr>\n",
       "      <th>259999</th>\n",
       "      <td>other</td>\n",
       "    </tr>\n",
       "  </tbody>\n",
       "</table>\n",
       "<p>260000 rows × 1 columns</p>\n",
       "</div>"
      ],
      "text/plain": [
       "            0\n",
       "0       white\n",
       "1       white\n",
       "2       white\n",
       "3       white\n",
       "4       white\n",
       "...       ...\n",
       "259995  other\n",
       "259996  other\n",
       "259997  other\n",
       "259998  other\n",
       "259999  other\n",
       "\n",
       "[260000 rows x 1 columns]"
      ]
     },
     "execution_count": 6,
     "metadata": {},
     "output_type": "execute_result"
    }
   ],
   "source": [
    "national = pd.DataFrame([\"white\"]*100000 + [\"hispanic\"]*60000 +[\"black\"]*50000 + [\"asian\"]*15000 + [\"other\"]*35000)\n",
    "national"
   ]
  },
  {
   "cell_type": "code",
   "execution_count": 7,
   "metadata": {
    "collapsed": true
   },
   "outputs": [
    {
     "data": {
      "text/html": [
       "<div>\n",
       "<style scoped>\n",
       "    .dataframe tbody tr th:only-of-type {\n",
       "        vertical-align: middle;\n",
       "    }\n",
       "\n",
       "    .dataframe tbody tr th {\n",
       "        vertical-align: top;\n",
       "    }\n",
       "\n",
       "    .dataframe thead th {\n",
       "        text-align: right;\n",
       "    }\n",
       "</style>\n",
       "<table border=\"1\" class=\"dataframe\">\n",
       "  <thead>\n",
       "    <tr style=\"text-align: right;\">\n",
       "      <th></th>\n",
       "      <th>0</th>\n",
       "    </tr>\n",
       "  </thead>\n",
       "  <tbody>\n",
       "    <tr>\n",
       "      <th>0</th>\n",
       "      <td>white</td>\n",
       "    </tr>\n",
       "    <tr>\n",
       "      <th>1</th>\n",
       "      <td>white</td>\n",
       "    </tr>\n",
       "    <tr>\n",
       "      <th>2</th>\n",
       "      <td>white</td>\n",
       "    </tr>\n",
       "    <tr>\n",
       "      <th>3</th>\n",
       "      <td>white</td>\n",
       "    </tr>\n",
       "    <tr>\n",
       "      <th>4</th>\n",
       "      <td>white</td>\n",
       "    </tr>\n",
       "    <tr>\n",
       "      <th>...</th>\n",
       "      <td>...</td>\n",
       "    </tr>\n",
       "    <tr>\n",
       "      <th>1370</th>\n",
       "      <td>other</td>\n",
       "    </tr>\n",
       "    <tr>\n",
       "      <th>1371</th>\n",
       "      <td>other</td>\n",
       "    </tr>\n",
       "    <tr>\n",
       "      <th>1372</th>\n",
       "      <td>other</td>\n",
       "    </tr>\n",
       "    <tr>\n",
       "      <th>1373</th>\n",
       "      <td>other</td>\n",
       "    </tr>\n",
       "    <tr>\n",
       "      <th>1374</th>\n",
       "      <td>other</td>\n",
       "    </tr>\n",
       "  </tbody>\n",
       "</table>\n",
       "<p>1375 rows × 1 columns</p>\n",
       "</div>"
      ],
      "text/plain": [
       "          0\n",
       "0     white\n",
       "1     white\n",
       "2     white\n",
       "3     white\n",
       "4     white\n",
       "...     ...\n",
       "1370  other\n",
       "1371  other\n",
       "1372  other\n",
       "1373  other\n",
       "1374  other\n",
       "\n",
       "[1375 rows x 1 columns]"
      ]
     },
     "execution_count": 7,
     "metadata": {},
     "output_type": "execute_result"
    }
   ],
   "source": [
    "minnesota = pd.DataFrame([\"white\"]*600 + [\"hispanic\"]*300 + [\"black\"]*250 +[\"asian\"]*75 + [\"other\"]*150)\n",
    "minnesota"
   ]
  },
  {
   "cell_type": "code",
   "execution_count": 8,
   "metadata": {},
   "outputs": [
    {
     "data": {
      "text/html": [
       "<div>\n",
       "<style scoped>\n",
       "    .dataframe tbody tr th:only-of-type {\n",
       "        vertical-align: middle;\n",
       "    }\n",
       "\n",
       "    .dataframe tbody tr th {\n",
       "        vertical-align: top;\n",
       "    }\n",
       "\n",
       "    .dataframe thead th {\n",
       "        text-align: right;\n",
       "    }\n",
       "</style>\n",
       "<table border=\"1\" class=\"dataframe\">\n",
       "  <thead>\n",
       "    <tr style=\"text-align: right;\">\n",
       "      <th>col_0</th>\n",
       "      <th>count</th>\n",
       "    </tr>\n",
       "    <tr>\n",
       "      <th>0</th>\n",
       "      <th></th>\n",
       "    </tr>\n",
       "  </thead>\n",
       "  <tbody>\n",
       "    <tr>\n",
       "      <th>asian</th>\n",
       "      <td>15000</td>\n",
       "    </tr>\n",
       "    <tr>\n",
       "      <th>black</th>\n",
       "      <td>50000</td>\n",
       "    </tr>\n",
       "    <tr>\n",
       "      <th>hispanic</th>\n",
       "      <td>60000</td>\n",
       "    </tr>\n",
       "    <tr>\n",
       "      <th>other</th>\n",
       "      <td>35000</td>\n",
       "    </tr>\n",
       "    <tr>\n",
       "      <th>white</th>\n",
       "      <td>100000</td>\n",
       "    </tr>\n",
       "  </tbody>\n",
       "</table>\n",
       "</div>"
      ],
      "text/plain": [
       "col_0      count\n",
       "0               \n",
       "asian      15000\n",
       "black      50000\n",
       "hispanic   60000\n",
       "other      35000\n",
       "white     100000"
      ]
     },
     "execution_count": 8,
     "metadata": {},
     "output_type": "execute_result"
    }
   ],
   "source": [
    "national_table = pd.crosstab(index=national[0], columns=\"count\")\n",
    "minnesota_table = pd.crosstab(index=minnesota[0], columns=\"count\")\n",
    "national_table"
   ]
  },
  {
   "cell_type": "code",
   "execution_count": null,
   "metadata": {},
   "outputs": [],
   "source": []
  },
  {
   "cell_type": "code",
   "execution_count": 2,
   "metadata": {
    "colab": {
     "base_uri": "https://localhost:8080/",
     "height": 504
    },
    "id": "UnSPemelUMmu",
    "outputId": "9fdd7b07-f6f2-46e8-baee-969013dbd6ae"
   },
   "outputs": [
    {
     "name": "stdout",
     "output_type": "stream",
     "text": [
      "National\n"
     ]
    },
    {
     "data": {
      "text/html": [
       "<div>\n",
       "<style scoped>\n",
       "    .dataframe tbody tr th:only-of-type {\n",
       "        vertical-align: middle;\n",
       "    }\n",
       "\n",
       "    .dataframe tbody tr th {\n",
       "        vertical-align: top;\n",
       "    }\n",
       "\n",
       "    .dataframe thead th {\n",
       "        text-align: right;\n",
       "    }\n",
       "</style>\n",
       "<table border=\"1\" class=\"dataframe\">\n",
       "  <thead>\n",
       "    <tr style=\"text-align: right;\">\n",
       "      <th>col_0</th>\n",
       "      <th>count</th>\n",
       "    </tr>\n",
       "    <tr>\n",
       "      <th>0</th>\n",
       "      <th></th>\n",
       "    </tr>\n",
       "  </thead>\n",
       "  <tbody>\n",
       "    <tr>\n",
       "      <th>asian</th>\n",
       "      <td>15000</td>\n",
       "    </tr>\n",
       "    <tr>\n",
       "      <th>black</th>\n",
       "      <td>50000</td>\n",
       "    </tr>\n",
       "    <tr>\n",
       "      <th>hispanic</th>\n",
       "      <td>60000</td>\n",
       "    </tr>\n",
       "    <tr>\n",
       "      <th>other</th>\n",
       "      <td>35000</td>\n",
       "    </tr>\n",
       "    <tr>\n",
       "      <th>white</th>\n",
       "      <td>100000</td>\n",
       "    </tr>\n",
       "  </tbody>\n",
       "</table>\n",
       "</div>"
      ],
      "text/plain": [
       "col_0      count\n",
       "0               \n",
       "asian      15000\n",
       "black      50000\n",
       "hispanic   60000\n",
       "other      35000\n",
       "white     100000"
      ]
     },
     "metadata": {},
     "output_type": "display_data"
    },
    {
     "name": "stdout",
     "output_type": "stream",
     "text": [
      " \n",
      "Minnesota\n"
     ]
    },
    {
     "data": {
      "text/html": [
       "<div>\n",
       "<style scoped>\n",
       "    .dataframe tbody tr th:only-of-type {\n",
       "        vertical-align: middle;\n",
       "    }\n",
       "\n",
       "    .dataframe tbody tr th {\n",
       "        vertical-align: top;\n",
       "    }\n",
       "\n",
       "    .dataframe thead th {\n",
       "        text-align: right;\n",
       "    }\n",
       "</style>\n",
       "<table border=\"1\" class=\"dataframe\">\n",
       "  <thead>\n",
       "    <tr style=\"text-align: right;\">\n",
       "      <th>col_0</th>\n",
       "      <th>count</th>\n",
       "    </tr>\n",
       "    <tr>\n",
       "      <th>0</th>\n",
       "      <th></th>\n",
       "    </tr>\n",
       "  </thead>\n",
       "  <tbody>\n",
       "    <tr>\n",
       "      <th>asian</th>\n",
       "      <td>75</td>\n",
       "    </tr>\n",
       "    <tr>\n",
       "      <th>black</th>\n",
       "      <td>250</td>\n",
       "    </tr>\n",
       "    <tr>\n",
       "      <th>hispanic</th>\n",
       "      <td>300</td>\n",
       "    </tr>\n",
       "    <tr>\n",
       "      <th>other</th>\n",
       "      <td>150</td>\n",
       "    </tr>\n",
       "    <tr>\n",
       "      <th>white</th>\n",
       "      <td>600</td>\n",
       "    </tr>\n",
       "  </tbody>\n",
       "</table>\n",
       "</div>"
      ],
      "text/plain": [
       "col_0     count\n",
       "0              \n",
       "asian        75\n",
       "black       250\n",
       "hispanic    300\n",
       "other       150\n",
       "white       600"
      ]
     },
     "metadata": {},
     "output_type": "display_data"
    }
   ],
   "source": [
    "national = pd.DataFrame([\"white\"]*100000 + [\"hispanic\"]*60000 +\\\n",
    "                        [\"black\"]*50000 + [\"asian\"]*15000 + [\"other\"]*35000)\n",
    "\n",
    "\n",
    "minnesota = pd.DataFrame([\"white\"]*600 + [\"hispanic\"]*300 + \\\n",
    "                         [\"black\"]*250 +[\"asian\"]*75 + [\"other\"]*150)\n",
    "\n",
    "national_table = pd.crosstab(index=national[0], columns=\"count\")\n",
    "minnesota_table = pd.crosstab(index=minnesota[0], columns=\"count\")\n",
    "\n",
    "print( \"National\")\n",
    "display(national_table)\n",
    "print(\" \")\n",
    "print( \"Minnesota\")\n",
    "display(minnesota_table)"
   ]
  },
  {
   "cell_type": "markdown",
   "metadata": {
    "id": "pYxbsBzgUMmu"
   },
   "source": [
    "Chi-squared tests are based on the so-called chi-squared statistic. You calculate the chi-squared statistic with the following formula:\n",
    "\n",
    "$$ sum(\\frac{(observed-expected)^2}{expected}) $$\n",
    "\n",
    "In the formula, observed is the actual observed count for each category and expected is the expected count based on the distribution of the population for the corresponding category. Let's calculate the chi-squared statistic for our data to illustrate:"
   ]
  },
  {
   "cell_type": "code",
   "execution_count": 9,
   "metadata": {},
   "outputs": [],
   "source": [
    "observed = minnesota_table"
   ]
  },
  {
   "cell_type": "code",
   "execution_count": 10,
   "metadata": {},
   "outputs": [
    {
     "data": {
      "text/html": [
       "<div>\n",
       "<style scoped>\n",
       "    .dataframe tbody tr th:only-of-type {\n",
       "        vertical-align: middle;\n",
       "    }\n",
       "\n",
       "    .dataframe tbody tr th {\n",
       "        vertical-align: top;\n",
       "    }\n",
       "\n",
       "    .dataframe thead th {\n",
       "        text-align: right;\n",
       "    }\n",
       "</style>\n",
       "<table border=\"1\" class=\"dataframe\">\n",
       "  <thead>\n",
       "    <tr style=\"text-align: right;\">\n",
       "      <th>col_0</th>\n",
       "      <th>count</th>\n",
       "    </tr>\n",
       "    <tr>\n",
       "      <th>0</th>\n",
       "      <th></th>\n",
       "    </tr>\n",
       "  </thead>\n",
       "  <tbody>\n",
       "    <tr>\n",
       "      <th>asian</th>\n",
       "      <td>0.057692</td>\n",
       "    </tr>\n",
       "    <tr>\n",
       "      <th>black</th>\n",
       "      <td>0.192308</td>\n",
       "    </tr>\n",
       "    <tr>\n",
       "      <th>hispanic</th>\n",
       "      <td>0.230769</td>\n",
       "    </tr>\n",
       "    <tr>\n",
       "      <th>other</th>\n",
       "      <td>0.134615</td>\n",
       "    </tr>\n",
       "    <tr>\n",
       "      <th>white</th>\n",
       "      <td>0.384615</td>\n",
       "    </tr>\n",
       "  </tbody>\n",
       "</table>\n",
       "</div>"
      ],
      "text/plain": [
       "col_0        count\n",
       "0                 \n",
       "asian     0.057692\n",
       "black     0.192308\n",
       "hispanic  0.230769\n",
       "other     0.134615\n",
       "white     0.384615"
      ]
     },
     "execution_count": 10,
     "metadata": {},
     "output_type": "execute_result"
    }
   ],
   "source": [
    "national_ratios = national_table/len(national)  # Get population ratios\n",
    "national_ratios"
   ]
  },
  {
   "cell_type": "code",
   "execution_count": 11,
   "metadata": {
    "scrolled": true
   },
   "outputs": [
    {
     "data": {
      "text/html": [
       "<div>\n",
       "<style scoped>\n",
       "    .dataframe tbody tr th:only-of-type {\n",
       "        vertical-align: middle;\n",
       "    }\n",
       "\n",
       "    .dataframe tbody tr th {\n",
       "        vertical-align: top;\n",
       "    }\n",
       "\n",
       "    .dataframe thead th {\n",
       "        text-align: right;\n",
       "    }\n",
       "</style>\n",
       "<table border=\"1\" class=\"dataframe\">\n",
       "  <thead>\n",
       "    <tr style=\"text-align: right;\">\n",
       "      <th>col_0</th>\n",
       "      <th>count</th>\n",
       "    </tr>\n",
       "    <tr>\n",
       "      <th>0</th>\n",
       "      <th></th>\n",
       "    </tr>\n",
       "  </thead>\n",
       "  <tbody>\n",
       "    <tr>\n",
       "      <th>asian</th>\n",
       "      <td>79.326923</td>\n",
       "    </tr>\n",
       "    <tr>\n",
       "      <th>black</th>\n",
       "      <td>264.423077</td>\n",
       "    </tr>\n",
       "    <tr>\n",
       "      <th>hispanic</th>\n",
       "      <td>317.307692</td>\n",
       "    </tr>\n",
       "    <tr>\n",
       "      <th>other</th>\n",
       "      <td>185.096154</td>\n",
       "    </tr>\n",
       "    <tr>\n",
       "      <th>white</th>\n",
       "      <td>528.846154</td>\n",
       "    </tr>\n",
       "  </tbody>\n",
       "</table>\n",
       "</div>"
      ],
      "text/plain": [
       "col_0          count\n",
       "0                   \n",
       "asian      79.326923\n",
       "black     264.423077\n",
       "hispanic  317.307692\n",
       "other     185.096154\n",
       "white     528.846154"
      ]
     },
     "execution_count": 11,
     "metadata": {},
     "output_type": "execute_result"
    }
   ],
   "source": [
    "expected = national_ratios * len(minnesota)   # Get expected counts\n",
    "expected"
   ]
  },
  {
   "cell_type": "code",
   "execution_count": 12,
   "metadata": {},
   "outputs": [
    {
     "data": {
      "text/plain": [
       "col_0\n",
       "count    18.194805\n",
       "dtype: float64"
      ]
     },
     "execution_count": 12,
     "metadata": {},
     "output_type": "execute_result"
    }
   ],
   "source": [
    "chi_squared_stat = (((observed-expected)**2)/expected).sum()\n",
    "chi_squared_stat"
   ]
  },
  {
   "cell_type": "markdown",
   "metadata": {
    "id": "eBtllxPqUMmv"
   },
   "source": [
    "*Note: The chi-squared test assumes none of the expected counts are less than 5.*\n",
    "\n",
    "Similar to the t-test where we compared the t-test statistic to a critical value based on the t-distribution to determine whether the result is significant, in the chi-square test we compare the chi-square test statistic to a critical value based on the [chi-square distribution](https://en.wikipedia.org/wiki/Chi-squared_distribution). The scipy library shorthand for the chi-square distribution is chi2. Let's use this knowledge to find the critical value for 95% confidence level and check the p-value of our result:"
   ]
  },
  {
   "cell_type": "code",
   "execution_count": 14,
   "metadata": {
    "colab": {
     "base_uri": "https://localhost:8080/"
    },
    "id": "KkZFZ30lUMmv",
    "outputId": "d984eece-6fd7-498e-bb69-92580e7783ee"
   },
   "outputs": [
    {
     "name": "stdout",
     "output_type": "stream",
     "text": [
      "Critical value\n",
      "9.487729036781154\n",
      "P value\n",
      "[0.00113047]\n"
     ]
    }
   ],
   "source": [
    "crit = stats.chi2.ppf(q = 0.95, # Find the critical value for 95% confidence*\n",
    "                      df = 4)   # Df = number of variable categories - 1\n",
    "\n",
    "print(\"Critical value\")\n",
    "print(crit)\n",
    "\n",
    "p_value = 1 - stats.chi2.cdf(x=chi_squared_stat,  # Find the p-value\n",
    "                             df=4)\n",
    "print(\"P value\")\n",
    "print(p_value)"
   ]
  },
  {
   "cell_type": "markdown",
   "metadata": {
    "id": "zM3pLn9FUMmv"
   },
   "source": [
    "Since our chi-squared statistic exceeds the critical value, we'd reject the null hypothesis that the two distributions are the same.\n",
    "\n",
    "You can carry out a chi-squared goodness-of-fit test automatically using the scipy function scipy.stats.chisquare():"
   ]
  },
  {
   "cell_type": "code",
   "execution_count": null,
   "metadata": {
    "colab": {
     "base_uri": "https://localhost:8080/"
    },
    "id": "lJyH5J2XUMmv",
    "outputId": "9e211e29-c7b8-439f-a7fa-4ea83ef2d31b"
   },
   "outputs": [
    {
     "data": {
      "text/plain": [
       "Power_divergenceResult(statistic=array([18.19480519]), pvalue=array([0.00113047]))"
      ]
     },
     "execution_count": 5,
     "metadata": {},
     "output_type": "execute_result"
    }
   ],
   "source": [
    "stats.chisquare(f_obs= observed,   # Array of observed counts\n",
    "                f_exp= expected)   # Array of expected counts"
   ]
  },
  {
   "cell_type": "markdown",
   "metadata": {
    "id": "hRHkUszqUMmw"
   },
   "source": [
    "The test results agree with the values we calculated above."
   ]
  },
  {
   "cell_type": "markdown",
   "metadata": {
    "id": "1e13EwkJUMmw"
   },
   "source": [
    "# Chi-Squared Test of Independence"
   ]
  },
  {
   "cell_type": "markdown",
   "metadata": {
    "id": "9V64ZS9DUMmw"
   },
   "source": [
    "[Independence](https://en.wikipedia.org/wiki/Independence_(probability_theory)) is a key concept in probability that describes a situation where knowing the value of one variable tells you nothing about the value of another. For instance, the month you were born probably doesn't tell you anything about which web browser you use, so we'd expect birth month and browser preference to be independent. On the other hand, your month of birth might be related to whether you excelled at sports in school, so month of birth and sports performance might not be independent.\n",
    "\n",
    "The chi-squared test of independence tests whether two categorical variables are independent. The test of independence is commonly used to determine whether variables like education, political views and other preferences vary based on demographic factors like gender, race and religion. Let's generate some fake voter polling data and perform a test of independence:"
   ]
  },
  {
   "cell_type": "code",
   "execution_count": 26,
   "metadata": {},
   "outputs": [
    {
     "data": {
      "text/plain": [
       "array(['white', 'asian', 'white', 'white', 'other', 'hispanic', 'black',\n",
       "       'white', 'black', 'black', 'white', 'white', 'asian', 'white',\n",
       "       'white', 'white', 'white', 'hispanic', 'white', 'white', 'white',\n",
       "       'black', 'hispanic', 'white', 'hispanic', 'hispanic', 'white',\n",
       "       'white', 'white', 'white', 'white', 'white', 'white', 'hispanic',\n",
       "       'black', 'hispanic', 'black', 'white', 'asian', 'white', 'white',\n",
       "       'white', 'black', 'white', 'hispanic', 'white', 'hispanic',\n",
       "       'white', 'hispanic', 'black', 'hispanic', 'black', 'white',\n",
       "       'black', 'hispanic', 'white', 'white', 'other', 'white',\n",
       "       'hispanic', 'white', 'white', 'white', 'white', 'asian',\n",
       "       'hispanic', 'black', 'hispanic', 'hispanic', 'white', 'asian',\n",
       "       'hispanic', 'hispanic', 'white', 'hispanic', 'asian', 'white',\n",
       "       'white', 'white', 'hispanic', 'white', 'white', 'white',\n",
       "       'hispanic', 'hispanic', 'asian', 'hispanic', 'hispanic', 'white',\n",
       "       'white', 'other', 'hispanic', 'black', 'white', 'hispanic',\n",
       "       'other', 'white', 'hispanic', 'hispanic', 'white', 'white',\n",
       "       'white', 'black', 'other', 'white', 'white', 'white', 'asian',\n",
       "       'hispanic', 'white', 'hispanic', 'white', 'white', 'black',\n",
       "       'black', 'hispanic', 'black', 'black', 'white', 'hispanic',\n",
       "       'hispanic', 'white', 'black', 'white', 'other', 'white', 'black',\n",
       "       'black', 'white', 'asian', 'hispanic', 'white', 'hispanic',\n",
       "       'hispanic', 'white', 'white', 'white', 'white', 'asian', 'white',\n",
       "       'white', 'white', 'white', 'white', 'white', 'white', 'black',\n",
       "       'hispanic', 'white', 'black', 'hispanic', 'black', 'white',\n",
       "       'white', 'black', 'white', 'white', 'white', 'black', 'hispanic',\n",
       "       'hispanic', 'asian', 'asian', 'other', 'white', 'white',\n",
       "       'hispanic', 'black', 'white', 'white', 'white', 'white', 'white',\n",
       "       'white', 'white', 'asian', 'white', 'black', 'other', 'white',\n",
       "       'other', 'white', 'black', 'asian', 'white', 'white', 'other',\n",
       "       'hispanic', 'black', 'hispanic', 'black', 'white', 'black',\n",
       "       'hispanic', 'white', 'hispanic', 'white', 'white', 'hispanic',\n",
       "       'black', 'white', 'white', 'hispanic', 'white', 'hispanic',\n",
       "       'hispanic', 'white', 'white', 'white', 'white', 'hispanic',\n",
       "       'white', 'white', 'hispanic', 'white', 'hispanic', 'asian',\n",
       "       'asian', 'black', 'black', 'hispanic', 'white', 'other', 'black',\n",
       "       'white', 'hispanic', 'asian', 'white', 'hispanic', 'white',\n",
       "       'hispanic', 'white', 'white', 'white', 'white', 'black',\n",
       "       'hispanic', 'hispanic', 'white', 'white', 'hispanic', 'hispanic',\n",
       "       'white', 'hispanic', 'black', 'white', 'white', 'black', 'white',\n",
       "       'hispanic', 'white', 'hispanic', 'white', 'white', 'white',\n",
       "       'hispanic', 'hispanic', 'white', 'white', 'white', 'hispanic',\n",
       "       'black', 'other', 'white', 'white', 'black', 'asian', 'white',\n",
       "       'white', 'white', 'white', 'white', 'white', 'black', 'black',\n",
       "       'hispanic', 'white', 'hispanic', 'white', 'asian', 'white',\n",
       "       'hispanic', 'white', 'white', 'hispanic', 'hispanic', 'white',\n",
       "       'black', 'hispanic', 'black', 'black', 'white', 'hispanic',\n",
       "       'white', 'white', 'white', 'white', 'white', 'black', 'hispanic',\n",
       "       'white', 'black', 'white', 'white', 'white', 'black', 'black',\n",
       "       'other', 'white', 'white', 'hispanic', 'white', 'white', 'asian',\n",
       "       'white', 'white', 'white', 'black', 'hispanic', 'asian', 'white',\n",
       "       'hispanic', 'black', 'white', 'black', 'hispanic', 'white',\n",
       "       'white', 'black', 'hispanic', 'white', 'black', 'hispanic',\n",
       "       'white', 'white', 'white', 'white', 'black', 'white', 'white',\n",
       "       'white', 'white', 'white', 'white', 'hispanic', 'white',\n",
       "       'hispanic', 'black', 'white', 'white', 'white', 'white',\n",
       "       'hispanic', 'white', 'asian', 'hispanic', 'black', 'white',\n",
       "       'white', 'white', 'black', 'black', 'white', 'white', 'black',\n",
       "       'hispanic', 'white', 'black', 'white', 'white', 'hispanic',\n",
       "       'white', 'other', 'white', 'hispanic', 'white', 'white', 'white',\n",
       "       'asian', 'white', 'other', 'black', 'white', 'white', 'white',\n",
       "       'hispanic', 'black', 'asian', 'white', 'black', 'hispanic',\n",
       "       'hispanic', 'asian', 'black', 'asian', 'white', 'hispanic',\n",
       "       'white', 'hispanic', 'hispanic', 'hispanic', 'white', 'white',\n",
       "       'white', 'white', 'white', 'hispanic', 'white', 'white', 'white',\n",
       "       'white', 'hispanic', 'black', 'white', 'white', 'white',\n",
       "       'hispanic', 'white', 'white', 'hispanic', 'black', 'black',\n",
       "       'black', 'hispanic', 'white', 'white', 'white', 'hispanic',\n",
       "       'white', 'white', 'white', 'white', 'white', 'white', 'white',\n",
       "       'white', 'white', 'asian', 'hispanic', 'white', 'hispanic',\n",
       "       'black', 'black', 'white', 'white', 'white', 'hispanic', 'white',\n",
       "       'hispanic', 'white', 'white', 'white', 'black', 'white', 'white',\n",
       "       'black', 'asian', 'white', 'white', 'hispanic', 'hispanic',\n",
       "       'black', 'other', 'white', 'white', 'hispanic', 'hispanic',\n",
       "       'white', 'hispanic', 'white', 'white', 'white', 'white', 'black',\n",
       "       'white', 'white', 'white', 'white', 'hispanic', 'hispanic',\n",
       "       'hispanic', 'black', 'black', 'white', 'white', 'white', 'white',\n",
       "       'hispanic', 'white', 'white', 'hispanic', 'black', 'asian',\n",
       "       'white', 'asian', 'hispanic', 'white', 'asian', 'white', 'other',\n",
       "       'asian', 'asian', 'hispanic', 'black', 'white', 'white',\n",
       "       'hispanic', 'asian', 'black', 'black', 'white', 'white', 'asian',\n",
       "       'white', 'white', 'hispanic', 'hispanic', 'white', 'white',\n",
       "       'black', 'hispanic', 'white', 'white', 'hispanic', 'white',\n",
       "       'white', 'white', 'white', 'white', 'asian', 'asian', 'white',\n",
       "       'black', 'white', 'hispanic', 'black', 'white', 'hispanic',\n",
       "       'hispanic', 'white', 'black', 'hispanic', 'black', 'hispanic',\n",
       "       'black', 'white', 'white', 'asian', 'black', 'black', 'white',\n",
       "       'white', 'white', 'black', 'white', 'white', 'white', 'white',\n",
       "       'white', 'hispanic', 'black', 'white', 'asian', 'black', 'black',\n",
       "       'white', 'hispanic', 'hispanic', 'hispanic', 'black', 'hispanic',\n",
       "       'white', 'white', 'hispanic', 'hispanic', 'other', 'white',\n",
       "       'white', 'white', 'hispanic', 'hispanic', 'white', 'hispanic',\n",
       "       'white', 'black', 'white', 'hispanic', 'white', 'hispanic',\n",
       "       'white', 'hispanic', 'asian', 'black', 'hispanic', 'black',\n",
       "       'white', 'hispanic', 'white', 'other', 'white', 'black', 'white',\n",
       "       'white', 'black', 'white', 'black', 'white', 'black', 'white',\n",
       "       'white', 'hispanic', 'hispanic', 'white', 'white', 'hispanic',\n",
       "       'white', 'hispanic', 'white', 'hispanic', 'white', 'white',\n",
       "       'hispanic', 'hispanic', 'asian', 'white', 'white', 'black',\n",
       "       'asian', 'asian', 'white', 'black', 'hispanic', 'hispanic',\n",
       "       'black', 'white', 'white', 'white', 'white', 'black', 'white',\n",
       "       'other', 'black', 'white', 'asian', 'white', 'white', 'asian',\n",
       "       'hispanic', 'white', 'black', 'asian', 'white', 'hispanic',\n",
       "       'hispanic', 'black', 'hispanic', 'hispanic', 'hispanic',\n",
       "       'hispanic', 'hispanic', 'hispanic', 'hispanic', 'hispanic',\n",
       "       'hispanic', 'white', 'white', 'white', 'hispanic', 'white',\n",
       "       'hispanic', 'white', 'white', 'white', 'black', 'white', 'white',\n",
       "       'white', 'hispanic', 'black', 'black', 'white', 'white',\n",
       "       'hispanic', 'white', 'white', 'white', 'white', 'white', 'white',\n",
       "       'black', 'white', 'white', 'hispanic', 'white', 'hispanic',\n",
       "       'asian', 'asian', 'white', 'hispanic', 'asian', 'hispanic',\n",
       "       'hispanic', 'hispanic', 'white', 'black', 'hispanic', 'hispanic',\n",
       "       'white', 'white', 'white', 'white', 'white', 'white', 'hispanic',\n",
       "       'hispanic', 'white', 'hispanic', 'white', 'white', 'hispanic',\n",
       "       'black', 'hispanic', 'hispanic', 'white', 'white', 'hispanic',\n",
       "       'white', 'white', 'hispanic', 'white', 'other', 'white', 'white',\n",
       "       'hispanic', 'white', 'asian', 'black', 'white', 'white', 'white',\n",
       "       'white', 'hispanic', 'white', 'hispanic', 'white', 'hispanic',\n",
       "       'hispanic', 'white', 'black', 'white', 'other', 'white', 'white',\n",
       "       'white', 'white', 'white', 'hispanic', 'asian', 'black', 'white',\n",
       "       'white', 'white', 'white', 'white', 'white', 'other', 'white',\n",
       "       'white', 'asian', 'white', 'white', 'hispanic', 'white',\n",
       "       'hispanic', 'white', 'white', 'black', 'white', 'white',\n",
       "       'hispanic', 'white', 'white', 'white', 'white', 'other', 'white',\n",
       "       'white', 'asian', 'hispanic', 'hispanic', 'black', 'hispanic',\n",
       "       'white', 'other', 'hispanic', 'white', 'white', 'hispanic',\n",
       "       'white', 'white', 'white', 'other', 'white', 'white', 'white',\n",
       "       'white', 'white', 'white', 'hispanic', 'other', 'hispanic',\n",
       "       'hispanic', 'white', 'black', 'black', 'white', 'white',\n",
       "       'hispanic', 'white', 'white', 'white', 'hispanic', 'white',\n",
       "       'white', 'white', 'black', 'hispanic', 'hispanic', 'white',\n",
       "       'hispanic', 'asian', 'hispanic', 'white', 'black', 'white',\n",
       "       'white', 'hispanic', 'black', 'hispanic', 'hispanic', 'hispanic',\n",
       "       'other', 'white', 'asian', 'white', 'black', 'white', 'black',\n",
       "       'white', 'hispanic', 'hispanic', 'white', 'black', 'hispanic',\n",
       "       'white', 'white', 'other', 'white', 'white', 'hispanic',\n",
       "       'hispanic', 'white', 'white', 'white', 'hispanic', 'black',\n",
       "       'black', 'other', 'hispanic', 'white', 'other', 'white', 'white',\n",
       "       'hispanic', 'asian', 'asian', 'other', 'white', 'black',\n",
       "       'hispanic', 'white', 'white', 'white', 'white', 'white', 'white',\n",
       "       'white', 'white', 'black', 'hispanic', 'hispanic', 'hispanic',\n",
       "       'black', 'hispanic', 'white', 'white', 'black', 'white', 'white',\n",
       "       'other', 'hispanic', 'other', 'hispanic', 'white', 'hispanic',\n",
       "       'black', 'white', 'black', 'hispanic', 'white', 'white', 'white',\n",
       "       'white', 'white', 'white', 'hispanic', 'white', 'black', 'white',\n",
       "       'white', 'hispanic', 'black', 'white', 'white', 'white', 'asian',\n",
       "       'hispanic', 'hispanic', 'hispanic', 'black', 'white', 'white',\n",
       "       'white', 'white', 'white', 'hispanic', 'white', 'white', 'black',\n",
       "       'white', 'white', 'hispanic', 'hispanic', 'white', 'white',\n",
       "       'white', 'hispanic', 'white', 'other', 'white', 'hispanic',\n",
       "       'black', 'white', 'black', 'black', 'other', 'hispanic', 'white',\n",
       "       'hispanic', 'hispanic', 'hispanic', 'hispanic', 'white', 'asian',\n",
       "       'white', 'black', 'hispanic', 'black', 'white', 'hispanic',\n",
       "       'white', 'other', 'white', 'black', 'other', 'black', 'black',\n",
       "       'black', 'hispanic', 'white', 'hispanic', 'hispanic', 'black',\n",
       "       'hispanic', 'white', 'white', 'white', 'white', 'black', 'black',\n",
       "       'hispanic', 'black', 'asian', 'hispanic', 'hispanic', 'white',\n",
       "       'hispanic', 'black', 'white', 'black'], dtype='<U8')"
      ]
     },
     "execution_count": 26,
     "metadata": {},
     "output_type": "execute_result"
    }
   ],
   "source": [
    "np.random.seed(10)\n",
    "\n",
    "# Sample data randomly at fixed probabilities\n",
    "voter_race = np.random.choice(a= [\"asian\",\"black\",\"hispanic\",\"other\",\"white\"],\n",
    "                              p = [0.05, 0.15 ,0.25, 0.05, 0.5],\n",
    "                              size=1000)\n",
    "voter_race"
   ]
  },
  {
   "cell_type": "code",
   "execution_count": 27,
   "metadata": {},
   "outputs": [],
   "source": [
    "# Sample data randomly at fixed probabilities\n",
    "voter_party = np.random.choice(a= [\"democrat\",\"independent\",\"republican\"],\n",
    "                              p = [0.4, 0.2, 0.4],\n",
    "                              size=1000)"
   ]
  },
  {
   "cell_type": "code",
   "execution_count": 28,
   "metadata": {},
   "outputs": [
    {
     "data": {
      "text/html": [
       "<div>\n",
       "<style scoped>\n",
       "    .dataframe tbody tr th:only-of-type {\n",
       "        vertical-align: middle;\n",
       "    }\n",
       "\n",
       "    .dataframe tbody tr th {\n",
       "        vertical-align: top;\n",
       "    }\n",
       "\n",
       "    .dataframe thead th {\n",
       "        text-align: right;\n",
       "    }\n",
       "</style>\n",
       "<table border=\"1\" class=\"dataframe\">\n",
       "  <thead>\n",
       "    <tr style=\"text-align: right;\">\n",
       "      <th></th>\n",
       "      <th>race</th>\n",
       "      <th>party</th>\n",
       "    </tr>\n",
       "  </thead>\n",
       "  <tbody>\n",
       "    <tr>\n",
       "      <th>0</th>\n",
       "      <td>white</td>\n",
       "      <td>democrat</td>\n",
       "    </tr>\n",
       "    <tr>\n",
       "      <th>1</th>\n",
       "      <td>asian</td>\n",
       "      <td>republican</td>\n",
       "    </tr>\n",
       "    <tr>\n",
       "      <th>2</th>\n",
       "      <td>white</td>\n",
       "      <td>independent</td>\n",
       "    </tr>\n",
       "  </tbody>\n",
       "</table>\n",
       "</div>"
      ],
      "text/plain": [
       "    race        party\n",
       "0  white     democrat\n",
       "1  asian   republican\n",
       "2  white  independent"
      ]
     },
     "execution_count": 28,
     "metadata": {},
     "output_type": "execute_result"
    }
   ],
   "source": [
    "voters = pd.DataFrame({\"race\":voter_race,\n",
    "                       \"party\":voter_party})\n",
    "voters.head(3)"
   ]
  },
  {
   "cell_type": "code",
   "execution_count": 29,
   "metadata": {},
   "outputs": [
    {
     "data": {
      "text/html": [
       "<div>\n",
       "<style scoped>\n",
       "    .dataframe tbody tr th:only-of-type {\n",
       "        vertical-align: middle;\n",
       "    }\n",
       "\n",
       "    .dataframe tbody tr th {\n",
       "        vertical-align: top;\n",
       "    }\n",
       "\n",
       "    .dataframe thead th {\n",
       "        text-align: right;\n",
       "    }\n",
       "</style>\n",
       "<table border=\"1\" class=\"dataframe\">\n",
       "  <thead>\n",
       "    <tr style=\"text-align: right;\">\n",
       "      <th>party</th>\n",
       "      <th>democrat</th>\n",
       "      <th>independent</th>\n",
       "      <th>republican</th>\n",
       "      <th>All</th>\n",
       "    </tr>\n",
       "    <tr>\n",
       "      <th>race</th>\n",
       "      <th></th>\n",
       "      <th></th>\n",
       "      <th></th>\n",
       "      <th></th>\n",
       "    </tr>\n",
       "  </thead>\n",
       "  <tbody>\n",
       "    <tr>\n",
       "      <th>asian</th>\n",
       "      <td>21</td>\n",
       "      <td>7</td>\n",
       "      <td>32</td>\n",
       "      <td>60</td>\n",
       "    </tr>\n",
       "    <tr>\n",
       "      <th>black</th>\n",
       "      <td>65</td>\n",
       "      <td>25</td>\n",
       "      <td>64</td>\n",
       "      <td>154</td>\n",
       "    </tr>\n",
       "    <tr>\n",
       "      <th>hispanic</th>\n",
       "      <td>107</td>\n",
       "      <td>50</td>\n",
       "      <td>94</td>\n",
       "      <td>251</td>\n",
       "    </tr>\n",
       "    <tr>\n",
       "      <th>other</th>\n",
       "      <td>15</td>\n",
       "      <td>8</td>\n",
       "      <td>15</td>\n",
       "      <td>38</td>\n",
       "    </tr>\n",
       "    <tr>\n",
       "      <th>white</th>\n",
       "      <td>189</td>\n",
       "      <td>96</td>\n",
       "      <td>212</td>\n",
       "      <td>497</td>\n",
       "    </tr>\n",
       "    <tr>\n",
       "      <th>All</th>\n",
       "      <td>397</td>\n",
       "      <td>186</td>\n",
       "      <td>417</td>\n",
       "      <td>1000</td>\n",
       "    </tr>\n",
       "  </tbody>\n",
       "</table>\n",
       "</div>"
      ],
      "text/plain": [
       "party     democrat  independent  republican   All\n",
       "race                                             \n",
       "asian           21            7          32    60\n",
       "black           65           25          64   154\n",
       "hispanic       107           50          94   251\n",
       "other           15            8          15    38\n",
       "white          189           96         212   497\n",
       "All            397          186         417  1000"
      ]
     },
     "execution_count": 29,
     "metadata": {},
     "output_type": "execute_result"
    }
   ],
   "source": [
    "voter_tab = pd.crosstab(voters['race'], voters['party'], margins = True)\n",
    "voter_tab"
   ]
  },
  {
   "cell_type": "code",
   "execution_count": 30,
   "metadata": {},
   "outputs": [],
   "source": [
    "voter_tab.columns = [\"democrat\",\"independent\",\"republican\",\"row_totals\"]\n",
    "voter_tab.index = [\"asian\",\"black\",\"hispanic\",\"other\",\"white\",\"col_totals\"]"
   ]
  },
  {
   "cell_type": "code",
   "execution_count": 31,
   "metadata": {},
   "outputs": [
    {
     "data": {
      "text/html": [
       "<div>\n",
       "<style scoped>\n",
       "    .dataframe tbody tr th:only-of-type {\n",
       "        vertical-align: middle;\n",
       "    }\n",
       "\n",
       "    .dataframe tbody tr th {\n",
       "        vertical-align: top;\n",
       "    }\n",
       "\n",
       "    .dataframe thead th {\n",
       "        text-align: right;\n",
       "    }\n",
       "</style>\n",
       "<table border=\"1\" class=\"dataframe\">\n",
       "  <thead>\n",
       "    <tr style=\"text-align: right;\">\n",
       "      <th></th>\n",
       "      <th>democrat</th>\n",
       "      <th>independent</th>\n",
       "      <th>republican</th>\n",
       "      <th>row_totals</th>\n",
       "    </tr>\n",
       "  </thead>\n",
       "  <tbody>\n",
       "    <tr>\n",
       "      <th>asian</th>\n",
       "      <td>21</td>\n",
       "      <td>7</td>\n",
       "      <td>32</td>\n",
       "      <td>60</td>\n",
       "    </tr>\n",
       "    <tr>\n",
       "      <th>black</th>\n",
       "      <td>65</td>\n",
       "      <td>25</td>\n",
       "      <td>64</td>\n",
       "      <td>154</td>\n",
       "    </tr>\n",
       "    <tr>\n",
       "      <th>hispanic</th>\n",
       "      <td>107</td>\n",
       "      <td>50</td>\n",
       "      <td>94</td>\n",
       "      <td>251</td>\n",
       "    </tr>\n",
       "    <tr>\n",
       "      <th>other</th>\n",
       "      <td>15</td>\n",
       "      <td>8</td>\n",
       "      <td>15</td>\n",
       "      <td>38</td>\n",
       "    </tr>\n",
       "    <tr>\n",
       "      <th>white</th>\n",
       "      <td>189</td>\n",
       "      <td>96</td>\n",
       "      <td>212</td>\n",
       "      <td>497</td>\n",
       "    </tr>\n",
       "    <tr>\n",
       "      <th>col_totals</th>\n",
       "      <td>397</td>\n",
       "      <td>186</td>\n",
       "      <td>417</td>\n",
       "      <td>1000</td>\n",
       "    </tr>\n",
       "  </tbody>\n",
       "</table>\n",
       "</div>"
      ],
      "text/plain": [
       "            democrat  independent  republican  row_totals\n",
       "asian             21            7          32          60\n",
       "black             65           25          64         154\n",
       "hispanic         107           50          94         251\n",
       "other             15            8          15          38\n",
       "white            189           96         212         497\n",
       "col_totals       397          186         417        1000"
      ]
     },
     "execution_count": 31,
     "metadata": {},
     "output_type": "execute_result"
    }
   ],
   "source": [
    "voter_tab"
   ]
  },
  {
   "cell_type": "code",
   "execution_count": 32,
   "metadata": {},
   "outputs": [
    {
     "data": {
      "text/html": [
       "<div>\n",
       "<style scoped>\n",
       "    .dataframe tbody tr th:only-of-type {\n",
       "        vertical-align: middle;\n",
       "    }\n",
       "\n",
       "    .dataframe tbody tr th {\n",
       "        vertical-align: top;\n",
       "    }\n",
       "\n",
       "    .dataframe thead th {\n",
       "        text-align: right;\n",
       "    }\n",
       "</style>\n",
       "<table border=\"1\" class=\"dataframe\">\n",
       "  <thead>\n",
       "    <tr style=\"text-align: right;\">\n",
       "      <th></th>\n",
       "      <th>democrat</th>\n",
       "      <th>independent</th>\n",
       "      <th>republican</th>\n",
       "    </tr>\n",
       "  </thead>\n",
       "  <tbody>\n",
       "    <tr>\n",
       "      <th>asian</th>\n",
       "      <td>21</td>\n",
       "      <td>7</td>\n",
       "      <td>32</td>\n",
       "    </tr>\n",
       "    <tr>\n",
       "      <th>black</th>\n",
       "      <td>65</td>\n",
       "      <td>25</td>\n",
       "      <td>64</td>\n",
       "    </tr>\n",
       "    <tr>\n",
       "      <th>hispanic</th>\n",
       "      <td>107</td>\n",
       "      <td>50</td>\n",
       "      <td>94</td>\n",
       "    </tr>\n",
       "    <tr>\n",
       "      <th>other</th>\n",
       "      <td>15</td>\n",
       "      <td>8</td>\n",
       "      <td>15</td>\n",
       "    </tr>\n",
       "    <tr>\n",
       "      <th>white</th>\n",
       "      <td>189</td>\n",
       "      <td>96</td>\n",
       "      <td>212</td>\n",
       "    </tr>\n",
       "  </tbody>\n",
       "</table>\n",
       "</div>"
      ],
      "text/plain": [
       "          democrat  independent  republican\n",
       "asian           21            7          32\n",
       "black           65           25          64\n",
       "hispanic       107           50          94\n",
       "other           15            8          15\n",
       "white          189           96         212"
      ]
     },
     "execution_count": 32,
     "metadata": {},
     "output_type": "execute_result"
    }
   ],
   "source": [
    "observed = voter_tab.iloc[0:5,0:3]   # Get table without totals for later use\n",
    "observed"
   ]
  },
  {
   "cell_type": "markdown",
   "metadata": {
    "id": "ScL6iVxKUMmw"
   },
   "source": [
    "Note that we did not use the race data to inform our generation of the party data so the variables are independent.\n",
    "\n",
    "For a test of independence, we use the same chi-squared formula that we used for the goodness-of-fit test. The main difference is we have to calculate the expected counts of each cell in a 2-dimensional table instead of a 1-dimensional table. To get the expected count for a cell, multiply the row total for that cell by the column total for that cell and then divide by the total number of observations. We can quickly get the expected counts for all cells in the table by taking the row totals and column totals of the table, performing an outer product on them with the np.outer() function and dividing by the number of observations:"
   ]
  },
  {
   "cell_type": "code",
   "execution_count": null,
   "metadata": {
    "colab": {
     "base_uri": "https://localhost:8080/",
     "height": 206
    },
    "id": "EDAZeV3BUMmw",
    "outputId": "b0e5671e-0c01-4b5b-d55e-6061f44197fe"
   },
   "outputs": [
    {
     "data": {
      "text/html": [
       "<div>\n",
       "<style scoped>\n",
       "    .dataframe tbody tr th:only-of-type {\n",
       "        vertical-align: middle;\n",
       "    }\n",
       "\n",
       "    .dataframe tbody tr th {\n",
       "        vertical-align: top;\n",
       "    }\n",
       "\n",
       "    .dataframe thead th {\n",
       "        text-align: right;\n",
       "    }\n",
       "</style>\n",
       "<table border=\"1\" class=\"dataframe\">\n",
       "  <thead>\n",
       "    <tr style=\"text-align: right;\">\n",
       "      <th></th>\n",
       "      <th>democrat</th>\n",
       "      <th>independent</th>\n",
       "      <th>republican</th>\n",
       "    </tr>\n",
       "  </thead>\n",
       "  <tbody>\n",
       "    <tr>\n",
       "      <th>asian</th>\n",
       "      <td>23.820</td>\n",
       "      <td>11.160</td>\n",
       "      <td>25.020</td>\n",
       "    </tr>\n",
       "    <tr>\n",
       "      <th>black</th>\n",
       "      <td>61.138</td>\n",
       "      <td>28.644</td>\n",
       "      <td>64.218</td>\n",
       "    </tr>\n",
       "    <tr>\n",
       "      <th>hispanic</th>\n",
       "      <td>99.647</td>\n",
       "      <td>46.686</td>\n",
       "      <td>104.667</td>\n",
       "    </tr>\n",
       "    <tr>\n",
       "      <th>other</th>\n",
       "      <td>15.086</td>\n",
       "      <td>7.068</td>\n",
       "      <td>15.846</td>\n",
       "    </tr>\n",
       "    <tr>\n",
       "      <th>white</th>\n",
       "      <td>197.309</td>\n",
       "      <td>92.442</td>\n",
       "      <td>207.249</td>\n",
       "    </tr>\n",
       "  </tbody>\n",
       "</table>\n",
       "</div>"
      ],
      "text/plain": [
       "          democrat  independent  republican\n",
       "asian       23.820       11.160      25.020\n",
       "black       61.138       28.644      64.218\n",
       "hispanic    99.647       46.686     104.667\n",
       "other       15.086        7.068      15.846\n",
       "white      197.309       92.442     207.249"
      ]
     },
     "execution_count": 7,
     "metadata": {},
     "output_type": "execute_result"
    }
   ],
   "source": [
    "expected =  np.outer(voter_tab[\"row_totals\"][0:5],\n",
    "                     voter_tab.loc[\"col_totals\"][0:3]) / 1000\n",
    "\n",
    "expected = pd.DataFrame(expected)\n",
    "\n",
    "expected.columns = [\"democrat\",\"independent\",\"republican\"]\n",
    "expected.index = [\"asian\",\"black\",\"hispanic\",\"other\",\"white\"]\n",
    "\n",
    "expected"
   ]
  },
  {
   "cell_type": "markdown",
   "metadata": {
    "id": "gv6bucI0UMmw"
   },
   "source": [
    "Now we can follow the same steps we took before to calculate the chi-square statistic, the critical value and the p-value:"
   ]
  },
  {
   "cell_type": "code",
   "execution_count": null,
   "metadata": {
    "colab": {
     "base_uri": "https://localhost:8080/"
    },
    "id": "qpBcpx1iUMmw",
    "outputId": "523fe1f9-f06b-4625-eb43-3c51941cba77"
   },
   "outputs": [
    {
     "name": "stdout",
     "output_type": "stream",
     "text": [
      "7.169321280162059\n"
     ]
    }
   ],
   "source": [
    "chi_squared_stat = (((observed-expected)**2)/expected).sum().sum()\n",
    "\n",
    "print(chi_squared_stat)"
   ]
  },
  {
   "cell_type": "markdown",
   "metadata": {
    "id": "yYlGCPB5UMmx"
   },
   "source": [
    "*Note: We call .sum() twice: once to get the column sums and a second time to add the column sums together, returning the sum of the entire 2D table.*"
   ]
  },
  {
   "cell_type": "code",
   "execution_count": null,
   "metadata": {
    "colab": {
     "base_uri": "https://localhost:8080/"
    },
    "id": "5O4p3PgVUMmx",
    "outputId": "7929103f-1301-48c9-f342-60f01cc39f3f"
   },
   "outputs": [
    {
     "name": "stdout",
     "output_type": "stream",
     "text": [
      "Critical value\n",
      "15.507313055865453\n",
      "P value\n",
      "0.518479392948842\n"
     ]
    }
   ],
   "source": [
    "crit = stats.chi2.ppf(q = 0.95, # Find the critical value for 95% confidence*\n",
    "                      df = 8)   # *\n",
    "\n",
    "print(\"Critical value\")\n",
    "print(crit)\n",
    "\n",
    "p_value = 1 - stats.chi2.cdf(x=chi_squared_stat,  # Find the p-value\n",
    "                             df=8)\n",
    "print(\"P value\")\n",
    "print(p_value)"
   ]
  },
  {
   "cell_type": "markdown",
   "metadata": {
    "id": "xjC1U-nhUMmx"
   },
   "source": [
    "*Note: The degrees of freedom for a test of independence equals the product of the number of categories in each variable minus 1. In this case we have a 5x3 table so df = 4x2 = 8.*\n",
    "\n",
    "As with the goodness-of-fit test, we can use scipy to conduct a test of independence quickly. Use stats.chi2_contingency() function to conduct a test of independence automatically given a frequency table of observed counts:"
   ]
  },
  {
   "cell_type": "code",
   "execution_count": 13,
   "metadata": {
    "colab": {
     "base_uri": "https://localhost:8080/"
    },
    "id": "3mcyuGmhUMmx",
    "outputId": "8c91b97e-983f-4ab4-d631-a363e841f51f"
   },
   "outputs": [
    {
     "data": {
      "text/plain": [
       "(7.169321280162059,\n",
       " 0.518479392948842,\n",
       " 8,\n",
       " array([[ 23.82 ,  11.16 ,  25.02 ],\n",
       "        [ 61.138,  28.644,  64.218],\n",
       "        [ 99.647,  46.686, 104.667],\n",
       "        [ 15.086,   7.068,  15.846],\n",
       "        [197.309,  92.442, 207.249]]))"
      ]
     },
     "execution_count": 13,
     "metadata": {},
     "output_type": "execute_result"
    }
   ],
   "source": [
    "stats.chi2_contingency(observed= observed)"
   ]
  },
  {
   "cell_type": "markdown",
   "metadata": {
    "id": "wfu7-8grUMmx"
   },
   "source": [
    "The output shows the chi-square statistic, the p-value and the degrees of freedom followed by the expected counts.\n",
    "\n",
    "As expected, given the high p-value, the test result does not detect a significant relationship between the variables."
   ]
  },
  {
   "cell_type": "markdown",
   "metadata": {
    "id": "ZsmdX3lgUMmx"
   },
   "source": [
    "# Wrap Up"
   ]
  },
  {
   "cell_type": "markdown",
   "metadata": {
    "id": "Y4IrXN0bUMmx"
   },
   "source": [
    "Chi-squared tests provide a way to investigate differences in the distributions of categorical variables with the same categories and the dependence between categorical variables."
   ]
  }
 ],
 "metadata": {
  "colab": {
   "provenance": []
  },
  "kernelspec": {
   "display_name": "Python 3 (ipykernel)",
   "language": "python",
   "name": "python3"
  },
  "language_info": {
   "codemirror_mode": {
    "name": "ipython",
    "version": 3
   },
   "file_extension": ".py",
   "mimetype": "text/x-python",
   "name": "python",
   "nbconvert_exporter": "python",
   "pygments_lexer": "ipython3",
   "version": "3.9.13"
  }
 },
 "nbformat": 4,
 "nbformat_minor": 1
}
