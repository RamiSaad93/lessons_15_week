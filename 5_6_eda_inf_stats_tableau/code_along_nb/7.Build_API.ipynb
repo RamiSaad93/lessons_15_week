{
 "cells": [
  {
   "cell_type": "markdown",
   "metadata": {},
   "source": [
    "# Flask API Lesson with MySQL Integration"
   ]
  },
  {
   "cell_type": "markdown",
   "metadata": {},
   "source": [
    "## Introduction"
   ]
  },
  {
   "cell_type": "markdown",
   "metadata": {},
   "source": [
    "This lesson covers how to create a Flask API that connects to a MySQL database (in this case, the Sakila database) using the `pymysql` connector. You'll learn:\n",
    "\n",
    "- How to set up a Flask application.\n",
    "- How to connect to a MySQL database.\n",
    "- Creating API endpoints to fetch data from the database.\n",
    "- Using `jsonify` for JSON responses.\n"
   ]
  },
  {
   "cell_type": "markdown",
   "metadata": {},
   "source": [
    "## Prerequisites"
   ]
  },
  {
   "cell_type": "markdown",
   "metadata": {},
   "source": [
    "- Flask and pymysql libraries installed. Install them using:\n",
    "  ```bash\n",
    "  pip install flask\n",
    "  pip install pymysql\n",
    "  ```\n",
    "- MySQL database server with the Sakila database.\n",
    "\n",
    "- Create a **python file** *(file_name.py)* to build your API.\n",
    "\n"
   ]
  },
  {
   "cell_type": "markdown",
   "metadata": {},
   "source": [
    "## Setting Up the Flask Application"
   ]
  },
  {
   "cell_type": "markdown",
   "metadata": {},
   "source": [
    "Import the required libraries and initialize the Flask app.\n",
    "```python\n",
    "from flask import Flask, jsonify, request\n",
    "import pymysql\n",
    "\n",
    "# Initialize Flask app\n",
    "app = Flask(__name__)\n",
    "```"
   ]
  },
  {
   "cell_type": "code",
   "execution_count": 4,
   "metadata": {},
   "outputs": [],
   "source": [
    "from flask import Flask, jsonify, request\n",
    "import pymysql\n",
    "\n",
    "# Initialize Flask app\n",
    "app = Flask(__name__)"
   ]
  },
  {
   "cell_type": "markdown",
   "metadata": {},
   "source": [
    "## Database Connection"
   ]
  },
  {
   "cell_type": "markdown",
   "metadata": {},
   "source": [
    "Define a function to connect to the MySQL database. Replace placeholders with your database credentials.\n",
    "\n",
    "```python\n",
    "def get_db_connection():\n",
    "    try:\n",
    "        connection = pymysql.connect(\n",
    "            host='your_server_name',        # Replace with your server name\n",
    "            user='your_username',           # Replace with your username\n",
    "            password='your_password',       # Replace with your password\n",
    "            database='sakila',              # Sakila database\n",
    "            cursorclass=pymysql.cursors.DictCursor\n",
    "        )\n",
    "        return connection\n",
    "    except Exception as e:\n",
    "        print(f\"Error connecting to database: {e}\")\n",
    "        return None\n",
    "```"
   ]
  },
  {
   "cell_type": "code",
   "execution_count": 19,
   "metadata": {},
   "outputs": [],
   "source": [
    "#Code here\n",
    "\n",
    "def get_db_connection():\n",
    "    try:\n",
    "        connection = pymysql.connect(\n",
    "            user='your_username',           # Replace with your username\n",
    "            password='your_password',       # Replace with your password\n",
    "            database='sakila',              # Sakila database\n",
    "            cursorclass=pymysql.cursors.DictCursor\n",
    "        )\n",
    "        return connection\n",
    "    except Exception as e:\n",
    "        print(f\"Error connecting to database: {e}\")\n",
    "        return None"
   ]
  },
  {
   "cell_type": "markdown",
   "metadata": {},
   "source": [
    "## Creating API Endpoints"
   ]
  },
  {
   "cell_type": "markdown",
   "metadata": {},
   "source": [
    "Each endpoint corresponds to a route and a function. Here are a few examples:"
   ]
  },
  {
   "cell_type": "markdown",
   "metadata": {},
   "source": [
    "##### **5.1 Fetch All Actors**\n",
    "- **Route**: `/actors`\n",
    "- **Method**: GET\n",
    "- **Purpose**: Retrieve all actors from the `actor` table.\n",
    "\n",
    "```python\n",
    "@app.route(\"/actors\", methods=[\"GET\"])\n",
    "def get_actors():\n",
    "    connection = get_db_connection()\n",
    "    if not connection:\n",
    "        return jsonify({\"error\": \"Failed to connect to database.\"}), 500\n",
    "\n",
    "    with connection.cursor() as cursor:\n",
    "        query = \"SELECT actor_id, first_name, last_name FROM actor;\"\n",
    "        cursor.execute(query)\n",
    "        actors = cursor.fetchall()\n",
    "\n",
    "    connection.close()\n",
    "    return jsonify(actors)\n",
    "```\n",
    "- **Key Points**:\n",
    "  - Use `with` to ensure the cursor is closed automatically.\n",
    "  - Fetch results using `fetchall()`.\n",
    "  - Return data as JSON using `jsonify`.\n"
   ]
  },
  {
   "cell_type": "code",
   "execution_count": 12,
   "metadata": {},
   "outputs": [],
   "source": [
    "#Code here\n",
    "\n",
    "@app.route(\"/actors\", methods=[\"GET\"])\n",
    "def get_actors():\n",
    "    connection = get_db_connection()\n",
    "    if not connection:\n",
    "        return jsonify({\"error\": \"Failed to connect to database.\"}), 500\n",
    "\n",
    "    with connection.cursor() as cursor:\n",
    "        query = \"SELECT actor_id, first_name, last_name FROM actor;\"\n",
    "        cursor.execute(query)\n",
    "        actors = cursor.fetchall()\n",
    "\n",
    "    connection.close()\n",
    "    return jsonify(actors)"
   ]
  },
  {
   "cell_type": "markdown",
   "metadata": {},
   "source": [
    "##### **5.2 Fetch All Movies**\n",
    "- **Route**: `/movies`\n",
    "- **Method**: GET\n",
    "- **Purpose**: Retrieve all movies from the `film` table.\n",
    "\n",
    "```python\n",
    "@app.route(\"/movies\", methods=[\"GET\"])\n",
    "def get_movies():\n",
    "    connection = get_db_connection()\n",
    "    if not connection:\n",
    "        return jsonify({\"error\": \"Failed to connect to database.\"}), 500\n",
    "\n",
    "    with connection.cursor() as cursor:\n",
    "        query = \"SELECT film_id, title, description, release_year FROM film;\"\n",
    "        cursor.execute(query)\n",
    "        movies = cursor.fetchall()\n",
    "\n",
    "    connection.close()\n",
    "    return jsonify(movies)\n",
    "```\n"
   ]
  },
  {
   "cell_type": "code",
   "execution_count": 13,
   "metadata": {},
   "outputs": [],
   "source": [
    "#Code here\n",
    "\n",
    "@app.route(\"/movies\", methods=[\"GET\"])\n",
    "def get_movies():\n",
    "    connection = get_db_connection()\n",
    "    if not connection:\n",
    "        return jsonify({\"error\": \"Failed to connect to database.\"}), 500\n",
    "\n",
    "    with connection.cursor() as cursor:\n",
    "        query = \"SELECT film_id, title, description, release_year FROM film;\"\n",
    "        cursor.execute(query)\n",
    "        movies = cursor.fetchall()\n",
    "\n",
    "    connection.close()\n",
    "    return jsonify(movies)"
   ]
  },
  {
   "cell_type": "markdown",
   "metadata": {},
   "source": [
    "##### **5.3 Search Movies by Title**\n",
    "- **Route**: `/search_movies`\n",
    "- **Method**: GET\n",
    "- **Purpose**: Retrieve movies based on a search query.\n",
    "\n",
    "```python\n",
    "@app.route(\"/search_movies\", methods=[\"GET\"])\n",
    "def search_movies():\n",
    "    title = request.args.get(\"title\", \"\")\n",
    "    if not title:\n",
    "        return jsonify({\"error\": \"Title parameter is required.\"}), 400\n",
    "\n",
    "    connection = get_db_connection()\n",
    "    if not connection:\n",
    "        return jsonify({\"error\": \"Failed to connect to database.\"}), 500\n",
    "\n",
    "    with connection.cursor() as cursor:\n",
    "        query = \"\"\"\n",
    "            SELECT film_id, title, description, release_year\n",
    "            FROM film\n",
    "            WHERE title LIKE %s;\n",
    "        \"\"\"\n",
    "        cursor.execute(query, (f\"%{title}%\",))\n",
    "        movies = cursor.fetchall()\n",
    "\n",
    "    connection.close()\n",
    "    return jsonify(movies)\n",
    "```\n",
    "- **Key Points**:\n",
    "  - Use `request.args.get` to fetch query parameters.\n",
    "  - Use `LIKE` in SQL for partial matches.\n"
   ]
  },
  {
   "cell_type": "code",
   "execution_count": 14,
   "metadata": {},
   "outputs": [],
   "source": [
    "#Code here\n",
    "\n",
    "@app.route(\"/search_movies\", methods=[\"GET\"])\n",
    "def search_movies():\n",
    "    title = request.args.get(\"title\", \"\")\n",
    "    if not title:\n",
    "        return jsonify({\"error\": \"Title parameter is required.\"}), 400\n",
    "\n",
    "    connection = get_db_connection()\n",
    "    if not connection:\n",
    "        return jsonify({\"error\": \"Failed to connect to database.\"}), 500\n",
    "\n",
    "    with connection.cursor() as cursor:\n",
    "        query = \"\"\"\n",
    "            SELECT film_id, title, description, release_year\n",
    "            FROM film\n",
    "            WHERE title LIKE %s;\n",
    "        \"\"\"\n",
    "        cursor.execute(query, (f\"%{title}%\",))\n",
    "        movies = cursor.fetchall()\n",
    "\n",
    "    connection.close()\n",
    "    return jsonify(movies)"
   ]
  },
  {
   "cell_type": "markdown",
   "metadata": {},
   "source": [
    "#### **6. Running the Flask App**\n",
    "Run the Flask app locally:\n",
    "```python\n",
    "if __name__ == \"__main__\":\n",
    "    app.run(debug=True)\n",
    "```\n",
    "- **Key Points**:\n",
    "  - Set `debug=True` for auto-reloading during development.\n",
    "  - Access the app at `http://127.0.0.1:5000/`.\n"
   ]
  },
  {
   "cell_type": "code",
   "execution_count": 16,
   "metadata": {},
   "outputs": [],
   "source": [
    "#Code here\n",
    "\n",
    "# if __name__ == \"__main__\":\n",
    "#     app.run(debug=True)"
   ]
  },
  {
   "cell_type": "markdown",
   "metadata": {},
   "source": [
    "#### **8. Summary**\n",
    "- Flask simplifies API creation.\n",
    "- `pymysql` enables seamless interaction with MySQL databases.\n",
    "- `jsonify` is crucial for converting Python data into JSON responses.\n",
    "\n",
    "\n"
   ]
  }
 ],
 "metadata": {
  "kernelspec": {
   "display_name": "base",
   "language": "python",
   "name": "python3"
  },
  "language_info": {
   "codemirror_mode": {
    "name": "ipython",
    "version": 3
   },
   "file_extension": ".py",
   "mimetype": "text/x-python",
   "name": "python",
   "nbconvert_exporter": "python",
   "pygments_lexer": "ipython3",
   "version": "3.11.7"
  }
 },
 "nbformat": 4,
 "nbformat_minor": 2
}
