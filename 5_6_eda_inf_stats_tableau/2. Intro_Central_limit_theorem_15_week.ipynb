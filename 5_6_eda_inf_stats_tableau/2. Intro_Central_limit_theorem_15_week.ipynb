{
 "cells": [
  {
   "cell_type": "markdown",
   "metadata": {
    "id": "QKvH-YKj4p0R"
   },
   "source": [
    "# Deep-Dive into Central Limit Theorem"
   ]
  },
  {
   "cell_type": "markdown",
   "metadata": {
    "id": "7pNO3Wn94p0V"
   },
   "source": [
    "![](https://github.com/IranelGV/Ironhack_IDGV/blob/main/Inferential_Statistics/Normal_Distribution/Images_SP%20(1).png?raw=true)"
   ]
  },
  {
   "cell_type": "markdown",
   "metadata": {
    "id": "t1cpQms94p0W"
   },
   "source": [
    "The Central Limit Theorem (CLT) is a fundamental concept in statistics, and it plays a crucial role in explaining why the normal distribution is so pervasive in various fields.[Central Limit Theorem](https://www.youtube.com/watch?v=b5xQmk9veZ4&ab_channel=365DataScience)\n",
    "\n",
    "#### The Central Limit Theorem Explained\n",
    "\n",
    "The Central Limit Theorem states that:\n",
    "\n",
    "> If you take the mean of $( n )$ random samples from any arbitrary distribution with a well-defined standard deviation $( \\sigma )$ and mean $( \\mu )$, as $( n )$ gets larger, the distribution of the sample mean will converge to a Gaussian (normal) distribution with mean $( \\mu $) and standard deviation $( \\frac{\\sigma}{\\sqrt{n}} )$.\n",
    "\n",
    "#### Key Aspects of the CLT\n",
    "\n",
    "- **Applicability to Any Distribution**: The CLT is remarkable because it applies to any distribution, no matter its shape, as long as the distribution has a well-defined mean and standard deviation.\n",
    "- **Sample Size and Normal Distribution**: As the sample size increases, the distribution of the sample means tends toward a normal distribution, regardless of the shape of the original data distribution.\n",
    "- **Mean and Standard Deviation of the Sample Means**: The mean of these sample means will equal the population mean, and their standard deviation (also called the standard error).\n",
    "\n",
    "#### Why is the CLT Significant?\n",
    "\n",
    "- **Ubiquity of the Normal Distribution**: The CLT helps to explain why normal distributions are commonly observed in real-world data—even when the underlying data does not follow a normal distribution.\n",
    "- **Foundation for Statistical Methods**: This theorem underlies many statistical methods, such as hypothesis testing and confidence intervals. It allows for inferences about population parameters even when the distribution of the population is unknown.\n",
    "- **Practical Implications**: In practical terms, the CLT means that average measurements from random samples (like the average height from a sample of people) will tend to form a normal distribution, even if individual measurements themselves do not.\n",
    "\n",
    "#### Applications and Implications\n",
    "\n",
    "The CLT has widespread applications across various domains, from natural and social sciences to engineering and economics. It allows researchers and practitioners to use the powerful tools of normal distribution, even in situations where the data does not initially appear to fit this model.\n",
    "\n",
    "In essence, the Central Limit Theorem provides a bridge between the theory of probability and the practice of statistics, justifying the use of the normal distribution as a model in many practical situations.\n",
    "\n"
   ]
  },
  {
   "cell_type": "markdown",
   "metadata": {
    "id": "ZM3ASG_64p0Y"
   },
   "source": [
    "\n",
    "\n",
    "\n",
    "## Exercise: Exploring the Central Limit Theorem with Python\n",
    "\n",
    "### Objective:\n",
    "\n",
    "**In this exercise, you will explore the Central Limit Theorem (CLT). You will generate data from a known, non-normal distribution, take multiple random samples from this data, calculate the mean of each sample, and then plot the distribution of these sample means to observe the CLT in action.**"
   ]
  },
  {
   "cell_type": "markdown",
   "metadata": {
    "id": "5zXJokf04p0Z"
   },
   "source": [
    "##### Start by importing libraries"
   ]
  },
  {
   "cell_type": "code",
   "execution_count": 1,
   "metadata": {
    "executionInfo": {
     "elapsed": 1243,
     "status": "ok",
     "timestamp": 1747034936408,
     "user": {
      "displayName": "Felipe Rocha",
      "userId": "15190446276852120232"
     },
     "user_tz": 180
    },
    "id": "rjVIQZYb4p0a"
   },
   "outputs": [],
   "source": [
    "import numpy as np\n",
    "import pandas as pd\n",
    "import matplotlib.pyplot as plt"
   ]
  },
  {
   "cell_type": "markdown",
   "metadata": {
    "id": "AcpBSOrz4p0d"
   },
   "source": [
    "##### Create a population distribution\n",
    "\n",
    "In the cell below, we create a population distribution for you. Note the large right skew, typical in an exponential distribution!"
   ]
  },
  {
   "cell_type": "code",
   "execution_count": 2,
   "metadata": {
    "colab": {
     "base_uri": "https://localhost:8080/",
     "height": 430
    },
    "executionInfo": {
     "elapsed": 207,
     "status": "ok",
     "timestamp": 1747036203957,
     "user": {
      "displayName": "Felipe Rocha",
      "userId": "15190446276852120232"
     },
     "user_tz": 180
    },
    "id": "HJZsXQ8j4p0d",
    "outputId": "99b5e9bf-73c8-40f2-ab70-cfe2bb0c8e3f"
   },
   "outputs": [
    {
     "data": {
      "image/png": "[encoded data removed]",
      "text/plain": [
       "<Figure size 640x480 with 1 Axes>"
      ]
     },
     "metadata": {},
     "output_type": "display_data"
    }
   ],
   "source": [
    "# Generate a non-normally distributed population (Imagine this is the distribution of weights of turtles)\n",
    "population = np.random.exponential(scale=1.0, size=100000)\n",
    "\n",
    "# Visualize the population distribution\n",
    "plt.hist(population, bins=50, alpha=0.5, label='Population Distribution')\n",
    "plt.legend()\n",
    "plt.show()"
   ]
  },
  {
   "cell_type": "code",
   "execution_count": 3,
   "metadata": {
    "colab": {
     "base_uri": "https://localhost:8080/"
    },
    "executionInfo": {
     "elapsed": 10,
     "status": "ok",
     "timestamp": 1747036205988,
     "user": {
      "displayName": "Felipe Rocha",
      "userId": "15190446276852120232"
     },
     "user_tz": 180
    },
    "id": "ZXPMKEtHcCLZ",
    "outputId": "88d9f059-f23b-4161-9326-196609e16852"
   },
   "outputs": [
    {
     "data": {
      "text/plain": [
       "array([0.90937338, 2.40951728, 2.45895617, ..., 2.03523903, 0.37269293,\n",
       "       0.58231175])"
      ]
     },
     "execution_count": 3,
     "metadata": {},
     "output_type": "execute_result"
    }
   ],
   "source": [
    "population"
   ]
  },
  {
   "cell_type": "markdown",
   "metadata": {
    "id": "_Wwdhm8V4p0e"
   },
   "source": [
    "Next, \"sample_size\" and \" \"num_of_samples\" are defined for you. An important premise of the CLT is that the size of the samples taken be at least 30, hence the value of \"sample_size\".\n",
    "\n",
    "First, you will create an empty list called \"sample_means\".\n",
    "Then, with the help of a for-loop, you will populate this list with the means of 1000 samples, taken from the population distribution defined above."
   ]
  },
  {
   "cell_type": "code",
   "execution_count": 6,
   "metadata": {
    "colab": {
     "base_uri": "https://localhost:8080/",
     "height": 634
    },
    "executionInfo": {
     "elapsed": 884,
     "status": "ok",
     "timestamp": 1747036409522,
     "user": {
      "displayName": "Felipe Rocha",
      "userId": "15190446276852120232"
     },
     "user_tz": 180
    },
    "id": "p2c8t0Dl4p0e",
    "outputId": "13be5177-1c4d-4358-e521-d7e19c15a52b"
   },
   "outputs": [
    {
     "data": {
      "text/plain": [
       "(array([5.000e+00, 4.000e+00, 2.000e+01, 3.400e+01, 7.200e+01, 1.380e+02,\n",
       "        2.140e+02, 3.320e+02, 4.530e+02, 6.680e+02, 8.450e+02, 1.031e+03,\n",
       "        1.038e+03, 1.069e+03, 9.920e+02, 8.480e+02, 7.060e+02, 5.310e+02,\n",
       "        3.650e+02, 2.610e+02, 1.760e+02, 8.800e+01, 6.300e+01, 2.700e+01,\n",
       "        1.100e+01, 7.000e+00, 0.000e+00, 1.000e+00, 0.000e+00, 1.000e+00]),\n",
       " array([0.88753934, 0.89586295, 0.90418656, 0.91251017, 0.92083378,\n",
       "        0.92915739, 0.93748099, 0.9458046 , 0.95412821, 0.96245182,\n",
       "        0.97077543, 0.97909904, 0.98742265, 0.99574626, 1.00406987,\n",
       "        1.01239348, 1.02071709, 1.0290407 , 1.03736431, 1.04568792,\n",
       "        1.05401153, 1.06233514, 1.07065875, 1.07898236, 1.08730596,\n",
       "        1.09562957, 1.10395318, 1.11227679, 1.1206004 , 1.12892401,\n",
       "        1.13724762]),\n",
       " <BarContainer object of 30 artists>)"
      ]
     },
     "execution_count": 6,
     "metadata": {},
     "output_type": "execute_result"
    },
    {
     "data": {
      "image/png": "[encoded data removed]",
      "text/plain": [
       "<Figure size 640x480 with 1 Axes>"
      ]
     },
     "metadata": {},
     "output_type": "display_data"
    }
   ],
   "source": [
    "sample_size = 1000\n",
    "num_of_samples = 10000\n",
    "\n",
    "#Create a for loop that takes a sample of 30 (turtles), computes its mean and adds it to the list \"sample_means\", 1000 times\n",
    "sample_means = []\n",
    "\n",
    "for n in range(num_of_samples):\n",
    "    #random.choice(a = random sample(population) , size=None (size of each sample), replace=True, p=None)\n",
    "    #replace = True, Whether the sample is with or without replacement. Meaning that a value of x can be selected multiple times.\n",
    "    sample = np.random.choice(population, sample_size, replace=True)\n",
    "    sample_means.append(np.mean(sample))\n",
    "sample_means\n",
    "\n",
    "#Your code goes here\n",
    "plt.hist(sample_means, bins=30)"
   ]
  },
  {
   "cell_type": "code",
   "execution_count": 30,
   "metadata": {
    "colab": {
     "base_uri": "https://localhost:8080/"
    },
    "executionInfo": {
     "elapsed": 47,
     "status": "ok",
     "timestamp": 1747036251163,
     "user": {
      "displayName": "Felipe Rocha",
      "userId": "15190446276852120232"
     },
     "user_tz": 180
    },
    "id": "LkU3byCteDHl",
    "outputId": "6f9d8215-c349-4d8c-d1c6-36d1cc800b6b"
   },
   "outputs": [
    {
     "name": "stdout",
     "output_type": "stream",
     "text": [
      "Shapiro-Wilk Test statistic: 0.998187809039839\n",
      "p-value: 0.3703837299358946\n"
     ]
    }
   ],
   "source": [
    "from scipy.stats import shapiro\n",
    "\n",
    "stat, p_value = shapiro(sample_means)\n",
    "print(\"Shapiro-Wilk Test statistic:\", stat)\n",
    "print(\"p-value:\", p_value)"
   ]
  },
  {
   "cell_type": "markdown",
   "metadata": {
    "id": "BK-z-UJw4p0e"
   },
   "source": [
    "##### Plotting your sample means"
   ]
  },
  {
   "cell_type": "markdown",
   "metadata": {
    "id": "Nm1NKqUf4p0f"
   },
   "source": [
    "Once you've created and populated \"sample_means\", you will plot them using matplotlib, a powerful visualization Python library.\n",
    "\n",
    "<br> The code is ready for you to run, just make sure you successfully created the \"sample_means\" variable."
   ]
  },
  {
   "cell_type": "code",
   "execution_count": 31,
   "metadata": {
    "colab": {
     "base_uri": "https://localhost:8080/",
     "height": 472
    },
    "executionInfo": {
     "elapsed": 399,
     "status": "ok",
     "timestamp": 1747036313920,
     "user": {
      "displayName": "Felipe Rocha",
      "userId": "15190446276852120232"
     },
     "user_tz": 180
    },
    "id": "FVyiX-gc4p0f",
    "outputId": "10b131bf-e018-4e5b-b160-f62929b1d451"
   },
   "outputs": [
    {
     "data": {
      "image/png": "[encoded data removed]",
      "text/plain": [
       "<Figure size 640x480 with 1 Axes>"
      ]
     },
     "metadata": {},
     "output_type": "display_data"
    }
   ],
   "source": [
    "plt.hist(sample_means, bins=30, edgecolor='black')\n",
    "plt.title('Distribution of Sample Means')\n",
    "plt.xlabel('Sample Mean')\n",
    "plt.ylabel('Frequency')\n",
    "plt.show()"
   ]
  },
  {
   "cell_type": "markdown",
   "metadata": {
    "id": "8S1OMEo_4p0f"
   },
   "source": [
    "##### Questions"
   ]
  },
  {
   "cell_type": "markdown",
   "metadata": {
    "id": "b4JeKJ7T4p0g"
   },
   "source": [
    "**What distribution do you see appear once you've plotted the sample means?**"
   ]
  },
  {
   "cell_type": "markdown",
   "metadata": {
    "id": "YvgFImJG4p0g"
   },
   "source": [
    "Answer:"
   ]
  },
  {
   "cell_type": "markdown",
   "metadata": {
    "id": "lYSlBiJv4p0g"
   },
   "source": [
    "**How does the shape of the distribution of sample means compare to the population distribution? Are they similar?**"
   ]
  },
  {
   "cell_type": "markdown",
   "metadata": {
    "id": "BnJOyvhH4p0g"
   },
   "source": [
    "Answer:\n"
   ]
  },
  {
   "cell_type": "markdown",
   "metadata": {
    "id": "nBnvaehl4p0h"
   },
   "source": [
    "###  Exercise POPULATION of Heights               ###\n",
    "#######################################################"
   ]
  },
  {
   "cell_type": "code",
   "execution_count": 8,
   "metadata": {
    "id": "WkKGC-Sj4p0h",
    "outputId": "04972765-938d-48d3-e486-f0ce19ec603f"
   },
   "outputs": [
    {
     "data": {
      "text/plain": [
       "array([177.25507546, 157.24062225, 186.25490835, ..., 183.02164192,\n",
       "       196.92056258, 178.19801603])"
      ]
     },
     "execution_count": 8,
     "metadata": {},
     "output_type": "execute_result"
    }
   ],
   "source": [
    "#Let's create a POPULATION of heights\n",
    "\n",
    "heights = np.random.uniform(low=155, high=200, size=100000)\n",
    "\n",
    "heights"
   ]
  },
  {
   "cell_type": "code",
   "execution_count": 9,
   "metadata": {
    "id": "TzcJ_oRH4p0i",
    "outputId": "4355ea99-dd30-407f-a740-d64c41932584"
   },
   "outputs": [
    {
     "data": {
      "image/png": "[encoded data removed]",
      "text/plain": [
       "<Figure size 640x480 with 1 Axes>"
      ]
     },
     "metadata": {},
     "output_type": "display_data"
    }
   ],
   "source": [
    "plt.hist(heights)\n",
    "plt.show()"
   ]
  },
  {
   "cell_type": "code",
   "execution_count": 10,
   "metadata": {
    "id": "AWkxwmHU4p0i",
    "outputId": "87acfb9d-a136-4028-ae92-a943e7000ddd"
   },
   "outputs": [
    {
     "name": "stdout",
     "output_type": "stream",
     "text": [
      "The population mean height is 177.60223324123993\n"
     ]
    }
   ],
   "source": [
    "print(f\"The population mean height is {heights.mean()}\")"
   ]
  },
  {
   "cell_type": "markdown",
   "metadata": {
    "id": "aW4HCV-14p0j"
   },
   "source": [
    "Now lets take some samples from the population"
   ]
  },
  {
   "cell_type": "code",
   "execution_count": 11,
   "metadata": {
    "id": "ggarnqgP4p0j"
   },
   "outputs": [],
   "source": [
    "#collecting 100 samples of 100 observations each\n",
    "heights_samples = [np.mean(np.random.choice(heights, 100))for _ in range(100)]"
   ]
  },
  {
   "cell_type": "code",
   "execution_count": 12,
   "metadata": {
    "scrolled": true
   },
   "outputs": [
    {
     "data": {
      "text/plain": [
       "[177.8276135678507,\n",
       " 178.22137958007724,\n",
       " 177.68525955893355,\n",
       " 177.72907426177528,\n",
       " 179.46265807915606,\n",
       " 180.01563137954045,\n",
       " 176.03984701083078,\n",
       " 178.89816225565733,\n",
       " 177.5684080930848,\n",
       " 176.76364942412488,\n",
       " 178.27533645839375,\n",
       " 177.79673950098237,\n",
       " 177.16973178531708,\n",
       " 178.53044112982937,\n",
       " 177.61200198531256,\n",
       " 178.09621628075624,\n",
       " 178.07083638181982,\n",
       " 176.8204352918117,\n",
       " 178.27233751464763,\n",
       " 178.18742610893062,\n",
       " 176.1209423818075,\n",
       " 179.8713762404297,\n",
       " 177.80058299582598,\n",
       " 174.2812530219078,\n",
       " 178.681943661177,\n",
       " 179.36130026942084,\n",
       " 178.5438006991089,\n",
       " 179.6131686423854,\n",
       " 177.6840447927322,\n",
       " 177.60862126784386,\n",
       " 178.8075499082791,\n",
       " 177.751144268498,\n",
       " 179.6872867276525,\n",
       " 178.80300580218417,\n",
       " 177.88138002339997,\n",
       " 178.1003418402301,\n",
       " 177.0808530616908,\n",
       " 177.8904279764514,\n",
       " 177.39861989485766,\n",
       " 175.28987500377676,\n",
       " 178.7019287665094,\n",
       " 177.90465890987295,\n",
       " 178.4025784409657,\n",
       " 177.67208948163622,\n",
       " 176.94731925147175,\n",
       " 179.04287202230344,\n",
       " 178.81417640887727,\n",
       " 177.03465470880516,\n",
       " 178.21010977671756,\n",
       " 176.95134832806366,\n",
       " 177.22116470337022,\n",
       " 177.17845180769928,\n",
       " 176.86780271937252,\n",
       " 177.3417447546978,\n",
       " 174.60082363185222,\n",
       " 173.652560769444,\n",
       " 174.98353396036472,\n",
       " 176.03093934505787,\n",
       " 178.10724748797224,\n",
       " 177.6831665059317,\n",
       " 178.01452649380542,\n",
       " 176.7421482827151,\n",
       " 175.5079933725704,\n",
       " 177.93569749684428,\n",
       " 177.80620800867266,\n",
       " 176.93404546853978,\n",
       " 176.7334586768675,\n",
       " 179.19142763507108,\n",
       " 177.8076001977483,\n",
       " 179.96485657800662,\n",
       " 177.09134541044637,\n",
       " 177.090689840105,\n",
       " 176.51348679544427,\n",
       " 179.00544260162664,\n",
       " 176.65833929078062,\n",
       " 178.57859947059305,\n",
       " 178.40835647105922,\n",
       " 177.9873343582748,\n",
       " 176.77031756118,\n",
       " 177.6603069359665,\n",
       " 177.28961929045752,\n",
       " 177.6848633154892,\n",
       " 178.57850264486245,\n",
       " 177.86151597367933,\n",
       " 175.90425250891855,\n",
       " 177.5810988087872,\n",
       " 176.54181264694645,\n",
       " 178.82553736286303,\n",
       " 176.35853647265995,\n",
       " 177.06326713703248,\n",
       " 180.4408801740194,\n",
       " 178.9136314787884,\n",
       " 178.32083043285817,\n",
       " 176.80877550186216,\n",
       " 178.87065940615622,\n",
       " 178.3955508687911,\n",
       " 177.15762955319107,\n",
       " 176.9168077607262,\n",
       " 176.87116963712094,\n",
       " 178.77756814824417]"
      ]
     },
     "execution_count": 12,
     "metadata": {},
     "output_type": "execute_result"
    }
   ],
   "source": [
    "heights_samples"
   ]
  },
  {
   "cell_type": "markdown",
   "metadata": {
    "id": "Hg4_cNtm4p0j"
   },
   "source": [
    "Let's now plot the sampling distribution"
   ]
  },
  {
   "cell_type": "code",
   "execution_count": 13,
   "metadata": {
    "id": "E9H3H0oV4p0j",
    "outputId": "3854693e-65d5-467d-e66d-bed540dbfe36"
   },
   "outputs": [
    {
     "data": {
      "image/png": "[encoded data removed]",
      "text/plain": [
       "<Figure size 640x480 with 1 Axes>"
      ]
     },
     "metadata": {},
     "output_type": "display_data"
    },
    {
     "name": "stdout",
     "output_type": "stream",
     "text": [
      "The mean of the sampling distribution is 177.68214565979247\n"
     ]
    }
   ],
   "source": [
    "plt.hist(heights_samples)\n",
    "plt.show()\n",
    "print(f\"The mean of the sampling distribution is {np.mean(heights_samples)}\")"
   ]
  },
  {
   "cell_type": "markdown",
   "metadata": {
    "id": "donHoSZj4p0k"
   },
   "source": [
    "As shown in this example, irrespectively of the shape of the population distribution, **the mean of the sampling distribution equals the population mean** and follows a normal distribution.\n",
    "\n",
    "The standard deviation of the sampling distribution can also be manipulated (by increasing sample size) and we calculate it with the following expression:\n",
    "\n"
   ]
  },
  {
   "cell_type": "markdown",
   "metadata": {
    "id": "r7-cbZ3A4p0k"
   },
   "source": [
    "![](https://github.com/data-bootcamp-v4/lessons/blob/main/img/std-samp-dist.png?raw=true)"
   ]
  },
  {
   "cell_type": "markdown",
   "metadata": {
    "id": "ZcXKC4JP4p0k"
   },
   "source": [
    "This formula implies that if we have a bigger sample the standard deviation of the sampling distribution will decrease. Let's observe it with some examples"
   ]
  },
  {
   "cell_type": "code",
   "execution_count": 14,
   "metadata": {
    "id": "gGfVgYZD4p0l",
    "outputId": "8042179c-0f85-4519-f1df-fb763a0e8429"
   },
   "outputs": [
    {
     "data": {
      "image/png": "[encoded data removed]",
      "text/plain": [
       "<Figure size 640x480 with 2 Axes>"
      ]
     },
     "metadata": {},
     "output_type": "display_data"
    }
   ],
   "source": [
    "#Generate small samples\n",
    "heights_samples_10 = [np.mean(np.random.choice(heights, 10))for _ in range(100)]\n",
    "\n",
    "#Generate bigger samples\n",
    "heights_samples_100 = [np.mean(np.random.choice(heights, 100))for _ in range(100)]\n",
    "\n",
    "_, charts = plt.subplots(nrows = 1, ncols=2, sharex=True)\n",
    "charts[0].set_title(\"Sampling Distribution with n=10\", fontsize=10)\n",
    "charts[0].hist(heights_samples_10)\n",
    "\n",
    "charts[1].set_title(\"Sampling Distribution with n=100\", fontsize=10)\n",
    "charts[1].hist(heights_samples_100)\n",
    "plt.show()"
   ]
  },
  {
   "cell_type": "markdown",
   "metadata": {
    "id": "NT2CiRKD4p0l"
   },
   "source": [
    "As shown in the sampling distributions plots above, larger samples sizes help us control **variation due to sample**."
   ]
  },
  {
   "cell_type": "markdown",
   "metadata": {
    "id": "elEcgclp4p0m"
   },
   "source": [
    "#### Example Central Limit Theorem in Business: Daily Sales Analysis\n",
    "\n",
    "In this exercise, we'll explore the Central Limit Theorem (CLT) using a practical business example. We will simulate a common scenario in retail - daily sales. Understanding the CLT can be crucial in business for making predictions and understanding data trends.\n",
    "\n",
    "#### Scenario: Retail Store Daily Sales\n",
    "\n",
    "In a retail environment, daily sales can vary significantly and might not follow a normal distribution. However, by applying the CLT, we can understand how the average sales over time behave, which is critical for inventory management, staffing, and financial forecasting.\n",
    "\n",
    "#### Objective\n",
    "\n",
    "The aim is to simulate daily sales data, compute sample means over different sample sizes, and observe how these sample means form a distribution. According to the CLT, as the sample size increases, the distribution of the sample means should approximate a normal distribution, regardless of the shape of the original sales data distribution.\n",
    "\n",
    "#### Python Simulation\n",
    "\n",
    "The provided Python code carries out the following steps:\n",
    "1. Generates random daily sales figures assuming a uniform distribution (non-normal).\n",
    "2. Calculates sample means for different sample sizes.\n",
    "3. Plots the distribution of these sample means.\n",
    "4. Fits a normal distribution over the sample means to visualize the CLT.\n",
    "\n",
    "This practical example will demonstrate the power of the CLT in a business context, showcasing its relevance and application in everyday data analysis tasks in the retail industry.\n"
   ]
  },
  {
   "cell_type": "code",
   "execution_count": 16,
   "metadata": {
    "colab": {
     "base_uri": "https://localhost:8080/",
     "height": 532
    },
    "executionInfo": {
     "elapsed": 160,
     "status": "ok",
     "timestamp": 1747037506006,
     "user": {
      "displayName": "Felipe Rocha",
      "userId": "15190446276852120232"
     },
     "user_tz": 180
    },
    "id": "kshseBL74p0m",
    "outputId": "a3fb7dca-234d-4eeb-f794-fcd363f6f010"
   },
   "outputs": [
    {
     "data": {
      "text/plain": [
       "(array([ 978., 1053.,  997., 1038., 1013.,  979.,  953.,  988.,  990.,\n",
       "        1011.]),\n",
       " array([1000.00186141, 1399.98047563, 1799.95908985, 2199.93770407,\n",
       "        2599.91631828, 2999.8949325 , 3399.87354672, 3799.85216094,\n",
       "        4199.83077516, 4599.80938937, 4999.78800359]),\n",
       " <BarContainer object of 10 artists>)"
      ]
     },
     "execution_count": 16,
     "metadata": {},
     "output_type": "execute_result"
    },
    {
     "data": {
      "image/png": "[encoded data removed]",
      "text/plain": [
       "<Figure size 640x480 with 1 Axes>"
      ]
     },
     "metadata": {},
     "output_type": "display_data"
    }
   ],
   "source": [
    "import numpy as np\n",
    "import matplotlib.pyplot as plt\n",
    "\n",
    "# Setting up a demonstration of the Central Limit Theorem (CLT) using daily sales data\n",
    "\n",
    "\n",
    "# Assume sales daily totals are uniformly distributed between $1000 and $5000\n",
    "lower_bound, upper_bound = 1000, 5000\n",
    "\n",
    "# let's pretend the store exists / has collected daily total sales from the past 5 years\n",
    "# now let's generate the theoretical distribution using a total of 10000 days\n",
    "all_daily_total_sales = np.random.uniform(lower_bound, upper_bound, 10000)\n",
    "plt.hist(all_daily_total_sales)"
   ]
  },
  {
   "cell_type": "markdown",
   "metadata": {
    "id": "s-IOOftPQbhJ"
   },
   "source": [
    "In reality we won't have access to all the theoretical values (10000 days of total sales), since the store exists for only 5 years (~1825 days). So, we can say we have access to a sample of the data.\n",
    "\n",
    "The following code is meant only to prove CLT. In a real use case scenario you wouldn't worry about proving CLT, but use inferencial statistic tools that works because of CLT (such as hypothesis testing), to make inferences about the \"population\" based on your sample."
   ]
  },
  {
   "cell_type": "code",
   "execution_count": 17,
   "metadata": {
    "colab": {
     "base_uri": "https://localhost:8080/",
     "height": 547
    },
    "executionInfo": {
     "elapsed": 702,
     "status": "ok",
     "timestamp": 1747037672664,
     "user": {
      "displayName": "Felipe Rocha",
      "userId": "15190446276852120232"
     },
     "user_tz": 180
    },
    "id": "0a3RBJE8LlDR",
    "outputId": "ce4cbb92-870f-4764-db49-827ad9230552"
   },
   "outputs": [
    {
     "data": {
      "image/png": "[encoded data removed]",
      "text/plain": [
       "<Figure size 1100x500 with 4 Axes>"
      ]
     },
     "metadata": {},
     "output_type": "display_data"
    }
   ],
   "source": [
    "# Preparing the space for plots\n",
    "fig, ax = plt.subplots(nrows = 1, ncols = 4, sharey=True, squeeze=True, figsize=(11, 5))\n",
    "\n",
    "sample_sizes = [1, 2, 5, 10]  # Different sample sizes (to demonstrate the CLT)\n",
    "\n",
    "for i, n in enumerate(sample_sizes):\n",
    "    # Generating random samples using 1825 days (5 years) of total sales\n",
    "    samples = np.random.uniform(lower_bound, upper_bound, (1825, n))\n",
    "    \n",
    "    # Calculating the mean of daily sales for each of the 10,000 samples\n",
    "    sample_means = np.mean(samples, axis=1)\n",
    "\n",
    "    # Plotting the histogram of the sample means\n",
    "    ax[i].hist(sample_means, bins=40, density=True, color=[0, 0.2, .8, .6])\n",
    "    ax[i].set_title(f'n={n}')\n",
    "\n",
    "    # Fitting a normal distribution to the sample means\n",
    "    mean, std = np.mean(sample_means), np.std(sample_means, ddof=1)\n",
    "    x = np.linspace(min(sample_means), max(sample_means), 100)\n",
    "    normal_pdf = (1 / (std * np.sqrt(2 * np.pi))) * np.exp(-(x - mean) ** 2 / (2 * std ** 2))\n",
    "\n",
    "    # Plotting the fitted normal distribution over the histogram\n",
    "    ax[i].plot(x, normal_pdf, color=[1, 0, 0, .6], linewidth=2)\n",
    "\n",
    "plt.suptitle('Demonstration of the CLT for Daily Sales in a Retail Store', y=1.05)\n",
    "plt.tight_layout()\n",
    "plt.show()"
   ]
  },
  {
   "cell_type": "markdown",
   "metadata": {
    "id": "mCZIJ1ro4p0n"
   },
   "source": [
    "#### Business Challenge: Analyzing Customer Spending Habits Using the Central Limit Theorem\n",
    "\n",
    "#### Scenario: Retail Company's Customer Spending Analysis\n",
    "\n",
    "You are a data analyst in a retail company, and your task is to analyze customer spending behavior. The company's data on customer purchases shows wide variability, and the distribution of individual purchases does not appear to follow a normal distribution.\n",
    "\n",
    "#### Objective\n",
    "\n",
    "Utilize the Central Limit Theorem to analyze the average spending per customer. The goal is to provide insights that can help the marketing and sales teams in strategic planning and targeted promotions.\n",
    "\n",
    "#### Tasks\n",
    "\n",
    "1. **Data Collection**: Gather data on individual customer purchases over a certain period.\n",
    "2. **Sample Averages**: Create random samples of customer purchases and calculate the average spending for each sample.\n",
    "3. **Apply the CLT**: Observe how the distribution of these sample means behaves as the sample size increases.\n",
    "4. **Statistical Analysis**: Analyze the resulting distribution of the sample means - it should approximate a normal distribution as per the CLT.\n",
    "5. **Insights and Strategy Development**: Based on the analysis, provide insights into customer spending patterns. Discuss how these insights can inform marketing strategies, discount offers, and inventory management.\n",
    "\n",
    "#### Expected Outcome\n",
    "\n",
    "This challenge will demonstrate how the Central Limit Theorem can be applied in a practical business setting to extract meaningful insights from seemingly non-normal data. It will enhance your understanding of statistical methods in business analytics and their application in strategic decision-making.\n"
   ]
  },
  {
   "cell_type": "code",
   "execution_count": null,
   "metadata": {
    "id": "dH541mqn4p0p",
    "outputId": "3e922b71-af40-4311-f544-69f73c6520e0"
   },
   "outputs": [
    {
     "data": {
      "image/png": "[encoded data removed]",
      "text/plain": [
       "<Figure size 640x480 with 1 Axes>"
      ]
     },
     "metadata": {},
     "output_type": "display_data"
    }
   ],
   "source": [
    "import numpy as np\n",
    "import matplotlib.pyplot as plt\n",
    "\n",
    "# This function simulates customer spending data\n",
    "def generate_customer_spending(num_customers):\n",
    "    # Simulate a non-normal distribution of spending (e.g., exponential, skewed, etc.)\n",
    "    return np.random.exponential(100, num_customers)  # the average spending in this example is 100$\n",
    "\n",
    "# Function to calculate sample means\n",
    "def calculate_sample_means(data, sample_size, num_samples):\n",
    "    sample_means = []\n",
    "    for _ in range(num_samples):\n",
    "        sample = np.random.choice(data, sample_size)\n",
    "        sample_means.append(np.mean(sample))\n",
    "    return sample_means\n",
    "\n",
    "# Parameters for simulation\n",
    "num_customers = 1000  # Total number of customer data points\n",
    "sample_size = 50      # Size of each sample\n",
    "num_samples = 1000    # Number of samples to take\n",
    "\n",
    "# Generate customer spending data\n",
    "customer_spending = generate_customer_spending(num_customers)\n",
    "\n",
    "# Calculate sample means\n",
    "sample_means = calculate_sample_means(customer_spending, sample_size, num_samples)\n",
    "\n",
    "# Plot the distribution of sample means\n",
    "plt.hist(sample_means, bins=30, edgecolor='black')\n",
    "plt.xlabel('Average Spending ($)')\n",
    "plt.ylabel('Frequency')\n",
    "plt.title('Distribution of Sample Means - Customer Spending')\n",
    "plt.show()"
   ]
  },
  {
   "cell_type": "markdown",
   "metadata": {
    "id": "hd6tD-kZ4p0q"
   },
   "source": [
    "**The Central Limit Theorem explains the importance of normal distributions in the real world. Many features and properties of the living beings depend on genetic and environmental factors which effect usually is additive.** The measured features are sum of many small effects that not necessarily follow the normal distributions, but their sum does follow according to the Central Limit Theorem.\n",
    "\n"
   ]
  },
  {
   "cell_type": "markdown",
   "metadata": {
    "id": "7zZV9gf44p0r"
   },
   "source": [
    "# Bonus: Self Guided Research\n",
    "\n",
    "\n",
    "## Monte Carlo Experiments\n",
    "\n",
    "Monte Carlo experiments are a critical tool in computational statistics and mathematical analysis. They are used to model the probability of different outcomes in a process that cannot easily be predicted due to the intervention of random variables. [Monte Carlo](https://www.youtube.com/watch?v=hhBNk0xmZ9U&ab_channel=365FinancialAnalystTutorials)\n",
    "\n",
    "### What are Monte Carlo Experiments?\n",
    "\n",
    "Monte Carlo experiments are a broad class of computational algorithms that rely on **repeated random sampling to obtain numerical results**. The fundamental principle of these experiments is to use randomness to solve problems that might be deterministic in principle. They are especially useful for simulating systems with many coupled degrees of freedom and for calculating integrals in high dimensions.\n",
    "\n",
    "### Key Features\n",
    "- **Random Sampling**: At the heart of Monte Carlo methods is the generation of multiple, random samples.\n",
    "- **Repetition**: Running simulations multiple times to obtain a distribution of an unknown probabilistic entity.\n",
    "- **Estimation**: They are often used for estimating unknown parameters or distributions in statistical problems.\n",
    "\n",
    "### Theoretical Basis\n",
    "\n",
    "Monte Carlo methods are extensively used in fields like physical sciences, engineering, business, finance, and artificial intelligence. They are particularly valuable in situations where analytical solutions are impractical or impossible to find. The theory behind Monte Carlo experiments is grounded in statistical physics and probability theory.\n",
    "\n",
    "### Trivial Case: Rolling a Die\n",
    "\n",
    "**Example**: What are the chances of getting a six in one trial of rolling a fair die?\n",
    "\n",
    "In theory, a fair die has six faces, each equally likely to land face up. Therefore, the probability of getting a six (or any other specific number) in a single roll is 1/6 or approximately 16.67%.\n",
    "\n",
    "### Monte Carlo Approach\n",
    "- **Simulation**: You can simulate rolling a die many times (e.g., 10,000 times) and count how often a six appears.\n",
    "- **Estimation**: By dividing the number of times a six is rolled by the total number of rolls, you get an estimate of the probability of rolling a six.\n",
    "- **Convergence**: As the number of trials increases, this estimated probability will converge to the theoretical probability (1/6).\n",
    "\n",
    "This trivial case illustrates how Monte Carlo methods can approximate the probabilities of certain outcomes through repeated, random sampling. As the complexity of the problem increases, Monte Carlo methods become an indispensable tool for probabilistic analysis and decision-making.\n"
   ]
  },
  {
   "cell_type": "markdown",
   "metadata": {
    "id": "FOk3yU-C4p0s"
   },
   "source": [
    "*Portfolio Risk Analysis*: In finance, Monte Carlo simulations are used to model the probability of different outcomes in a financial portfolio."
   ]
  },
  {
   "cell_type": "code",
   "execution_count": null,
   "metadata": {
    "id": "aUgfBq3Q4p0t",
    "outputId": "fd6918a1-c32c-4080-9d3a-2d30a20286b8"
   },
   "outputs": [
    {
     "name": "stdout",
     "output_type": "stream",
     "text": [
      "Median final portfolio value after 30 years: $566673.05\n"
     ]
    }
   ],
   "source": [
    "import numpy as np\n",
    "\n",
    "# Parameters for the simulation\n",
    "years = 30\n",
    "mean_return = 0.07  # Average annual return\n",
    "std_dev_return = 0.15  # Standard deviation of the return\n",
    "initial_investment = 100000  # Initial investment amount\n",
    "\n",
    "# Perform Monte Carlo simulation\n",
    "final_portfolio_values = []\n",
    "for _ in range(10000):\n",
    "    # Generate random yearly returns based on mean and standard deviation\n",
    "    yearly_returns = np.random.normal(mean_return, std_dev_return, years)\n",
    "    # Calculate the final portfolio value\n",
    "    end_value = initial_investment * np.prod(1 + yearly_returns)\n",
    "    final_portfolio_values.append(end_value)\n",
    "\n",
    "# Analyze the results\n",
    "median_portfolio = np.median(final_portfolio_values)\n",
    "print(f\"Median final portfolio value after {years} years: ${median_portfolio:.2f}\")\n"
   ]
  },
  {
   "cell_type": "markdown",
   "metadata": {
    "id": "dLUkCFl54p0u"
   },
   "source": [
    "*Sales Forecasting*: This Monte Carlo simulation can be used to forecast sales for a product. It takes into account the uncertainty in factors like market demand and unit price."
   ]
  },
  {
   "cell_type": "code",
   "execution_count": null,
   "metadata": {
    "id": "en2k8ONL4p0v"
   },
   "outputs": [],
   "source": [
    "import numpy as np\n",
    "\n",
    "# Parameters\n",
    "num_simulations = 10000\n",
    "avg_demand = 10000  # average demand units\n",
    "std_dev_demand = 2000  # standard deviation of demand\n",
    "avg_price = 50  # average price per unit\n",
    "std_dev_price = 5  # standard deviation of price\n",
    "\n",
    "# Monte Carlo Simulation\n",
    "sales_forecasts = []\n",
    "for _ in range(num_simulations):\n",
    "    simulated_demand = np.random.normal(avg_demand, std_dev_demand)\n",
    "    simulated_price = np.random.normal(avg_price, std_dev_price)\n",
    "    total_sales = simulated_demand * simulated_price\n",
    "    sales_forecasts.append(total_sales)\n",
    "\n",
    "# Analysis of Results\n",
    "average_sales = np.mean(sales_forecasts)\n",
    "print(f\"Average Forecasted Sales: ${average_sales:.2f}\")"
   ]
  },
  {
   "cell_type": "markdown",
   "metadata": {
    "id": "7CYs01u24p0v"
   },
   "source": [
    "*Project Completion Time*: Use Monte Carlo simulations to estimate the completion time of a project, considering the uncertainty in the duration of each task."
   ]
  },
  {
   "cell_type": "code",
   "execution_count": null,
   "metadata": {
    "id": "Cpp76xud4p0v"
   },
   "outputs": [],
   "source": [
    "# Assumptions: a project with three main tasks, each with an estimated duration\n",
    "# and standard deviation.\n",
    "\n",
    "num_simulations = 5000\n",
    "task1_mean = 10  # days\n",
    "task1_std = 2  # days\n",
    "task2_mean = 15  # days\n",
    "task2_std = 3  # days\n",
    "task3_mean = 20  # days\n",
    "task3_std = 4  # days\n",
    "\n",
    "project_durations = []\n",
    "for _ in range(num_simulations):\n",
    "    task1_time = np.random.normal(task1_mean, task1_std)\n",
    "    task2_time = np.random.normal(task2_mean, task2_std)\n",
    "    task3_time = np.random.normal(task3_mean, task3_std)\n",
    "    total_time = task1_time + task2_time + task3_time\n",
    "    project_durations.append(total_time)\n",
    "\n",
    "average_project_time = np.mean(project_durations)\n",
    "print(f\"Average Project Completion Time: {average_project_time:.2f} days\")"
   ]
  },
  {
   "cell_type": "code",
   "execution_count": null,
   "metadata": {
    "id": "w_KDkKJe4p0w"
   },
   "outputs": [],
   "source": [
    "np.random.normal(task1_mean, task1_std)"
   ]
  }
 ],
 "metadata": {
  "colab": {
   "provenance": []
  },
  "kernelspec": {
   "display_name": "Python 3 (ipykernel)",
   "language": "python",
   "name": "python3"
  },
  "language_info": {
   "codemirror_mode": {
    "name": "ipython",
    "version": 3
   },
   "file_extension": ".py",
   "mimetype": "text/x-python",
   "name": "python",
   "nbconvert_exporter": "python",
   "pygments_lexer": "ipython3",
   "version": "3.9.13"
  },
  "toc": {
   "base_numbering": 1,
   "nav_menu": {},
   "number_sections": true,
   "sideBar": true,
   "skip_h1_title": false,
   "title_cell": "Table of Contents",
   "title_sidebar": "Contents",
   "toc_cell": false,
   "toc_position": {},
   "toc_section_display": true,
   "toc_window_display": false
  }
 },
 "nbformat": 4,
 "nbformat_minor": 1
}
